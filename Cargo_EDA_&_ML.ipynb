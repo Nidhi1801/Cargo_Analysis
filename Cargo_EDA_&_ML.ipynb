{
 "cells": [
  {
   "cell_type": "code",
   "execution_count": 1,
   "id": "fdde9ba3",
   "metadata": {},
   "outputs": [],
   "source": [
    "import numpy as np\n",
    "import pandas as pd\n",
    "import seaborn as sns\n",
    "import matplotlib.pyplot as plt\n",
    "%matplotlib inline\n",
    "from sklearn.model_selection import train_test_split, GridSearchCV\n",
    "from sklearn.preprocessing import StandardScaler\n",
    "from sklearn.metrics import confusion_matrix, accuracy_score, precision_score, f1_score, plot_confusion_matrix, classification_report, plot_roc_curve, roc_curve, auc\n",
    "from sklearn.linear_model import LinearRegression,LogisticRegression\n",
    "from sklearn.svm import SVC\n",
    "from sklearn.model_selection import GridSearchCV\n",
    "from sklearn.preprocessing import LabelEncoder\n",
    "from sklearn.naive_bayes import GaussianNB\n",
    "from sklearn.neighbors import KNeighborsClassifier\n",
    "from sklearn.ensemble import RandomForestClassifier\n",
    "from sklearn.datasets import make_classification"
   ]
  },
  {
   "cell_type": "code",
   "execution_count": 2,
   "id": "f8f97083",
   "metadata": {},
   "outputs": [],
   "source": [
    "df = pd.read_csv(r\"/Users/nileshpatel/Downloads/c2k_data_comma.csv\")"
   ]
  },
  {
   "cell_type": "code",
   "execution_count": 3,
   "id": "b0b7e415",
   "metadata": {},
   "outputs": [
    {
     "data": {
      "text/html": [
       "<div>\n",
       "<style scoped>\n",
       "    .dataframe tbody tr th:only-of-type {\n",
       "        vertical-align: middle;\n",
       "    }\n",
       "\n",
       "    .dataframe tbody tr th {\n",
       "        vertical-align: top;\n",
       "    }\n",
       "\n",
       "    .dataframe thead th {\n",
       "        text-align: right;\n",
       "    }\n",
       "</style>\n",
       "<table border=\"1\" class=\"dataframe\">\n",
       "  <thead>\n",
       "    <tr style=\"text-align: right;\">\n",
       "      <th></th>\n",
       "      <th>nr</th>\n",
       "      <th>i1_legid</th>\n",
       "      <th>i1_rcs_p</th>\n",
       "      <th>i1_rcs_e</th>\n",
       "      <th>i1_dep_1_p</th>\n",
       "      <th>i1_dep_1_e</th>\n",
       "      <th>i1_dep_1_place</th>\n",
       "      <th>i1_rcf_1_p</th>\n",
       "      <th>i1_rcf_1_e</th>\n",
       "      <th>i1_rcf_1_place</th>\n",
       "      <th>...</th>\n",
       "      <th>o_dep_3_p</th>\n",
       "      <th>o_dep_3_e</th>\n",
       "      <th>o_dep_3_place</th>\n",
       "      <th>o_rcf_3_p</th>\n",
       "      <th>o_rcf_3_e</th>\n",
       "      <th>o_rcf_3_place</th>\n",
       "      <th>o_dlv_p</th>\n",
       "      <th>o_dlv_e</th>\n",
       "      <th>o_hops</th>\n",
       "      <th>legs</th>\n",
       "    </tr>\n",
       "  </thead>\n",
       "  <tbody>\n",
       "    <tr>\n",
       "      <th>0</th>\n",
       "      <td>0.0</td>\n",
       "      <td>5182.0</td>\n",
       "      <td>199.0</td>\n",
       "      <td>218.0</td>\n",
       "      <td>210.0</td>\n",
       "      <td>215.0</td>\n",
       "      <td>609.0</td>\n",
       "      <td>935.0</td>\n",
       "      <td>736.0</td>\n",
       "      <td>256.0</td>\n",
       "      <td>...</td>\n",
       "      <td>?</td>\n",
       "      <td>?</td>\n",
       "      <td>?</td>\n",
       "      <td>?</td>\n",
       "      <td>?</td>\n",
       "      <td>?</td>\n",
       "      <td>780.0</td>\n",
       "      <td>434.0</td>\n",
       "      <td>1.0</td>\n",
       "      <td>2.0</td>\n",
       "    </tr>\n",
       "    <tr>\n",
       "      <th>1</th>\n",
       "      <td>1.0</td>\n",
       "      <td>6523.0</td>\n",
       "      <td>844.0</td>\n",
       "      <td>584.0</td>\n",
       "      <td>90.0</td>\n",
       "      <td>297.0</td>\n",
       "      <td>700.0</td>\n",
       "      <td>1935.0</td>\n",
       "      <td>1415.0</td>\n",
       "      <td>431.0</td>\n",
       "      <td>...</td>\n",
       "      <td>?</td>\n",
       "      <td>?</td>\n",
       "      <td>?</td>\n",
       "      <td>?</td>\n",
       "      <td>?</td>\n",
       "      <td>?</td>\n",
       "      <td>3870.0</td>\n",
       "      <td>445.0</td>\n",
       "      <td>1.0</td>\n",
       "      <td>2.0</td>\n",
       "    </tr>\n",
       "    <tr>\n",
       "      <th>2</th>\n",
       "      <td>2.0</td>\n",
       "      <td>5878.0</td>\n",
       "      <td>4380.0</td>\n",
       "      <td>4119.0</td>\n",
       "      <td>90.0</td>\n",
       "      <td>280.0</td>\n",
       "      <td>456.0</td>\n",
       "      <td>905.0</td>\n",
       "      <td>547.0</td>\n",
       "      <td>700.0</td>\n",
       "      <td>...</td>\n",
       "      <td>?</td>\n",
       "      <td>?</td>\n",
       "      <td>?</td>\n",
       "      <td>?</td>\n",
       "      <td>?</td>\n",
       "      <td>?</td>\n",
       "      <td>550.0</td>\n",
       "      <td>1520.0</td>\n",
       "      <td>1.0</td>\n",
       "      <td>1.0</td>\n",
       "    </tr>\n",
       "    <tr>\n",
       "      <th>3</th>\n",
       "      <td>3.0</td>\n",
       "      <td>1275.0</td>\n",
       "      <td>759.0</td>\n",
       "      <td>169.0</td>\n",
       "      <td>240.0</td>\n",
       "      <td>777.0</td>\n",
       "      <td>173.0</td>\n",
       "      <td>340.0</td>\n",
       "      <td>577.0</td>\n",
       "      <td>349.0</td>\n",
       "      <td>...</td>\n",
       "      <td>?</td>\n",
       "      <td>?</td>\n",
       "      <td>?</td>\n",
       "      <td>?</td>\n",
       "      <td>?</td>\n",
       "      <td>?</td>\n",
       "      <td>3780.0</td>\n",
       "      <td>159.0</td>\n",
       "      <td>1.0</td>\n",
       "      <td>1.0</td>\n",
       "    </tr>\n",
       "    <tr>\n",
       "      <th>4</th>\n",
       "      <td>4.0</td>\n",
       "      <td>8117.0</td>\n",
       "      <td>1597.0</td>\n",
       "      <td>1485.0</td>\n",
       "      <td>150.0</td>\n",
       "      <td>241.0</td>\n",
       "      <td>411.0</td>\n",
       "      <td>585.0</td>\n",
       "      <td>612.0</td>\n",
       "      <td>128.0</td>\n",
       "      <td>...</td>\n",
       "      <td>?</td>\n",
       "      <td>?</td>\n",
       "      <td>?</td>\n",
       "      <td>?</td>\n",
       "      <td>?</td>\n",
       "      <td>?</td>\n",
       "      <td>4140.0</td>\n",
       "      <td>4797.0</td>\n",
       "      <td>2.0</td>\n",
       "      <td>1.0</td>\n",
       "    </tr>\n",
       "  </tbody>\n",
       "</table>\n",
       "<p>5 rows × 98 columns</p>\n",
       "</div>"
      ],
      "text/plain": [
       "    nr  i1_legid  i1_rcs_p  i1_rcs_e  i1_dep_1_p  i1_dep_1_e  i1_dep_1_place  \\\n",
       "0  0.0    5182.0     199.0     218.0       210.0       215.0           609.0   \n",
       "1  1.0    6523.0     844.0     584.0        90.0       297.0           700.0   \n",
       "2  2.0    5878.0    4380.0    4119.0        90.0       280.0           456.0   \n",
       "3  3.0    1275.0     759.0     169.0       240.0       777.0           173.0   \n",
       "4  4.0    8117.0    1597.0    1485.0       150.0       241.0           411.0   \n",
       "\n",
       "   i1_rcf_1_p  i1_rcf_1_e  i1_rcf_1_place  ... o_dep_3_p o_dep_3_e  \\\n",
       "0       935.0       736.0           256.0  ...         ?         ?   \n",
       "1      1935.0      1415.0           431.0  ...         ?         ?   \n",
       "2       905.0       547.0           700.0  ...         ?         ?   \n",
       "3       340.0       577.0           349.0  ...         ?         ?   \n",
       "4       585.0       612.0           128.0  ...         ?         ?   \n",
       "\n",
       "  o_dep_3_place o_rcf_3_p o_rcf_3_e o_rcf_3_place o_dlv_p o_dlv_e o_hops legs  \n",
       "0             ?         ?         ?             ?   780.0   434.0    1.0  2.0  \n",
       "1             ?         ?         ?             ?  3870.0   445.0    1.0  2.0  \n",
       "2             ?         ?         ?             ?   550.0  1520.0    1.0  1.0  \n",
       "3             ?         ?         ?             ?  3780.0   159.0    1.0  1.0  \n",
       "4             ?         ?         ?             ?  4140.0  4797.0    2.0  1.0  \n",
       "\n",
       "[5 rows x 98 columns]"
      ]
     },
     "execution_count": 3,
     "metadata": {},
     "output_type": "execute_result"
    }
   ],
   "source": [
    "df.head()"
   ]
  },
  {
   "cell_type": "code",
   "execution_count": 4,
   "id": "a68327e6",
   "metadata": {},
   "outputs": [
    {
     "data": {
      "text/plain": [
       "(3943, 98)"
      ]
     },
     "execution_count": 4,
     "metadata": {},
     "output_type": "execute_result"
    }
   ],
   "source": [
    "df.shape"
   ]
  },
  {
   "cell_type": "code",
   "execution_count": 5,
   "id": "258e7f12",
   "metadata": {},
   "outputs": [
    {
     "data": {
      "text/html": [
       "<div>\n",
       "<style scoped>\n",
       "    .dataframe tbody tr th:only-of-type {\n",
       "        vertical-align: middle;\n",
       "    }\n",
       "\n",
       "    .dataframe tbody tr th {\n",
       "        vertical-align: top;\n",
       "    }\n",
       "\n",
       "    .dataframe thead th {\n",
       "        text-align: right;\n",
       "    }\n",
       "</style>\n",
       "<table border=\"1\" class=\"dataframe\">\n",
       "  <thead>\n",
       "    <tr style=\"text-align: right;\">\n",
       "      <th></th>\n",
       "      <th>nr</th>\n",
       "      <th>i1_legid</th>\n",
       "      <th>i1_rcs_p</th>\n",
       "      <th>i1_rcs_e</th>\n",
       "      <th>i1_dep_1_p</th>\n",
       "      <th>i1_dep_1_e</th>\n",
       "      <th>i1_dep_1_place</th>\n",
       "      <th>i1_rcf_1_p</th>\n",
       "      <th>i1_rcf_1_e</th>\n",
       "      <th>i1_rcf_1_place</th>\n",
       "      <th>...</th>\n",
       "      <th>o_dep_1_p</th>\n",
       "      <th>o_dep_1_e</th>\n",
       "      <th>o_dep_1_place</th>\n",
       "      <th>o_rcf_1_p</th>\n",
       "      <th>o_rcf_1_e</th>\n",
       "      <th>o_rcf_1_place</th>\n",
       "      <th>o_dlv_p</th>\n",
       "      <th>o_dlv_e</th>\n",
       "      <th>o_hops</th>\n",
       "      <th>legs</th>\n",
       "    </tr>\n",
       "  </thead>\n",
       "  <tbody>\n",
       "    <tr>\n",
       "      <th>count</th>\n",
       "      <td>3942.000000</td>\n",
       "      <td>3942.000000</td>\n",
       "      <td>3942.000000</td>\n",
       "      <td>3942.000000</td>\n",
       "      <td>3942.000000</td>\n",
       "      <td>3942.000000</td>\n",
       "      <td>3942.000000</td>\n",
       "      <td>3942.000000</td>\n",
       "      <td>3942.000000</td>\n",
       "      <td>3942.000000</td>\n",
       "      <td>...</td>\n",
       "      <td>3942.000000</td>\n",
       "      <td>3942.000000</td>\n",
       "      <td>3942.000000</td>\n",
       "      <td>3942.000000</td>\n",
       "      <td>3942.000000</td>\n",
       "      <td>3942.000000</td>\n",
       "      <td>3942.000000</td>\n",
       "      <td>3942.000000</td>\n",
       "      <td>3942.000000</td>\n",
       "      <td>3942.000000</td>\n",
       "    </tr>\n",
       "    <tr>\n",
       "      <th>mean</th>\n",
       "      <td>1971.342973</td>\n",
       "      <td>7304.492136</td>\n",
       "      <td>2203.533486</td>\n",
       "      <td>1653.323440</td>\n",
       "      <td>205.891933</td>\n",
       "      <td>711.408929</td>\n",
       "      <td>503.703957</td>\n",
       "      <td>796.002790</td>\n",
       "      <td>666.358447</td>\n",
       "      <td>466.677829</td>\n",
       "      <td>...</td>\n",
       "      <td>207.128869</td>\n",
       "      <td>803.902588</td>\n",
       "      <td>479.703957</td>\n",
       "      <td>855.679097</td>\n",
       "      <td>690.343734</td>\n",
       "      <td>461.304414</td>\n",
       "      <td>3573.239726</td>\n",
       "      <td>3698.563673</td>\n",
       "      <td>1.474632</td>\n",
       "      <td>2.012177</td>\n",
       "    </tr>\n",
       "    <tr>\n",
       "      <th>std</th>\n",
       "      <td>1138.331044</td>\n",
       "      <td>4246.072270</td>\n",
       "      <td>4683.333105</td>\n",
       "      <td>4553.855588</td>\n",
       "      <td>140.283173</td>\n",
       "      <td>684.789184</td>\n",
       "      <td>232.776578</td>\n",
       "      <td>439.991579</td>\n",
       "      <td>764.145906</td>\n",
       "      <td>237.373952</td>\n",
       "      <td>...</td>\n",
       "      <td>157.631760</td>\n",
       "      <td>817.572534</td>\n",
       "      <td>208.574548</td>\n",
       "      <td>441.088279</td>\n",
       "      <td>446.911715</td>\n",
       "      <td>240.296704</td>\n",
       "      <td>1734.596116</td>\n",
       "      <td>14422.433250</td>\n",
       "      <td>0.512459</td>\n",
       "      <td>0.825165</td>\n",
       "    </tr>\n",
       "    <tr>\n",
       "      <th>min</th>\n",
       "      <td>0.000000</td>\n",
       "      <td>1.000000</td>\n",
       "      <td>5.000000</td>\n",
       "      <td>1.000000</td>\n",
       "      <td>75.000000</td>\n",
       "      <td>4.000000</td>\n",
       "      <td>101.000000</td>\n",
       "      <td>50.000000</td>\n",
       "      <td>13.000000</td>\n",
       "      <td>101.000000</td>\n",
       "      <td>...</td>\n",
       "      <td>90.000000</td>\n",
       "      <td>18.000000</td>\n",
       "      <td>101.000000</td>\n",
       "      <td>45.000000</td>\n",
       "      <td>1.000000</td>\n",
       "      <td>100.000000</td>\n",
       "      <td>240.000000</td>\n",
       "      <td>1.000000</td>\n",
       "      <td>1.000000</td>\n",
       "      <td>1.000000</td>\n",
       "    </tr>\n",
       "    <tr>\n",
       "      <th>25%</th>\n",
       "      <td>986.250000</td>\n",
       "      <td>3591.250000</td>\n",
       "      <td>377.750000</td>\n",
       "      <td>113.000000</td>\n",
       "      <td>120.000000</td>\n",
       "      <td>263.000000</td>\n",
       "      <td>308.000000</td>\n",
       "      <td>455.000000</td>\n",
       "      <td>274.000000</td>\n",
       "      <td>281.000000</td>\n",
       "      <td>...</td>\n",
       "      <td>90.000000</td>\n",
       "      <td>303.000000</td>\n",
       "      <td>341.000000</td>\n",
       "      <td>630.000000</td>\n",
       "      <td>385.000000</td>\n",
       "      <td>206.000000</td>\n",
       "      <td>2880.000000</td>\n",
       "      <td>400.000000</td>\n",
       "      <td>1.000000</td>\n",
       "      <td>1.000000</td>\n",
       "    </tr>\n",
       "    <tr>\n",
       "      <th>50%</th>\n",
       "      <td>1971.500000</td>\n",
       "      <td>7429.500000</td>\n",
       "      <td>1085.000000</td>\n",
       "      <td>340.000000</td>\n",
       "      <td>180.000000</td>\n",
       "      <td>516.000000</td>\n",
       "      <td>485.000000</td>\n",
       "      <td>820.000000</td>\n",
       "      <td>657.500000</td>\n",
       "      <td>485.000000</td>\n",
       "      <td>...</td>\n",
       "      <td>180.000000</td>\n",
       "      <td>600.000000</td>\n",
       "      <td>485.000000</td>\n",
       "      <td>840.000000</td>\n",
       "      <td>658.500000</td>\n",
       "      <td>476.000000</td>\n",
       "      <td>3780.000000</td>\n",
       "      <td>1201.500000</td>\n",
       "      <td>1.000000</td>\n",
       "      <td>2.000000</td>\n",
       "    </tr>\n",
       "    <tr>\n",
       "      <th>75%</th>\n",
       "      <td>2956.750000</td>\n",
       "      <td>10922.250000</td>\n",
       "      <td>1946.500000</td>\n",
       "      <td>1375.000000</td>\n",
       "      <td>240.000000</td>\n",
       "      <td>949.750000</td>\n",
       "      <td>700.000000</td>\n",
       "      <td>1020.000000</td>\n",
       "      <td>883.000000</td>\n",
       "      <td>700.000000</td>\n",
       "      <td>...</td>\n",
       "      <td>240.000000</td>\n",
       "      <td>1029.500000</td>\n",
       "      <td>671.000000</td>\n",
       "      <td>1050.000000</td>\n",
       "      <td>920.000000</td>\n",
       "      <td>700.000000</td>\n",
       "      <td>4080.000000</td>\n",
       "      <td>3174.250000</td>\n",
       "      <td>2.000000</td>\n",
       "      <td>3.000000</td>\n",
       "    </tr>\n",
       "    <tr>\n",
       "      <th>max</th>\n",
       "      <td>3942.000000</td>\n",
       "      <td>14661.000000</td>\n",
       "      <td>47190.000000</td>\n",
       "      <td>46357.000000</td>\n",
       "      <td>2876.000000</td>\n",
       "      <td>9513.000000</td>\n",
       "      <td>815.000000</td>\n",
       "      <td>5001.000000</td>\n",
       "      <td>38116.000000</td>\n",
       "      <td>815.000000</td>\n",
       "      <td>...</td>\n",
       "      <td>1620.000000</td>\n",
       "      <td>12256.000000</td>\n",
       "      <td>815.000000</td>\n",
       "      <td>4986.000000</td>\n",
       "      <td>5520.000000</td>\n",
       "      <td>815.000000</td>\n",
       "      <td>11520.000000</td>\n",
       "      <td>560130.000000</td>\n",
       "      <td>3.000000</td>\n",
       "      <td>3.000000</td>\n",
       "    </tr>\n",
       "  </tbody>\n",
       "</table>\n",
       "<p>8 rows × 26 columns</p>\n",
       "</div>"
      ],
      "text/plain": [
       "                nr      i1_legid      i1_rcs_p      i1_rcs_e   i1_dep_1_p  \\\n",
       "count  3942.000000   3942.000000   3942.000000   3942.000000  3942.000000   \n",
       "mean   1971.342973   7304.492136   2203.533486   1653.323440   205.891933   \n",
       "std    1138.331044   4246.072270   4683.333105   4553.855588   140.283173   \n",
       "min       0.000000      1.000000      5.000000      1.000000    75.000000   \n",
       "25%     986.250000   3591.250000    377.750000    113.000000   120.000000   \n",
       "50%    1971.500000   7429.500000   1085.000000    340.000000   180.000000   \n",
       "75%    2956.750000  10922.250000   1946.500000   1375.000000   240.000000   \n",
       "max    3942.000000  14661.000000  47190.000000  46357.000000  2876.000000   \n",
       "\n",
       "        i1_dep_1_e  i1_dep_1_place   i1_rcf_1_p    i1_rcf_1_e  i1_rcf_1_place  \\\n",
       "count  3942.000000     3942.000000  3942.000000   3942.000000     3942.000000   \n",
       "mean    711.408929      503.703957   796.002790    666.358447      466.677829   \n",
       "std     684.789184      232.776578   439.991579    764.145906      237.373952   \n",
       "min       4.000000      101.000000    50.000000     13.000000      101.000000   \n",
       "25%     263.000000      308.000000   455.000000    274.000000      281.000000   \n",
       "50%     516.000000      485.000000   820.000000    657.500000      485.000000   \n",
       "75%     949.750000      700.000000  1020.000000    883.000000      700.000000   \n",
       "max    9513.000000      815.000000  5001.000000  38116.000000      815.000000   \n",
       "\n",
       "       ...    o_dep_1_p     o_dep_1_e  o_dep_1_place    o_rcf_1_p  \\\n",
       "count  ...  3942.000000   3942.000000    3942.000000  3942.000000   \n",
       "mean   ...   207.128869    803.902588     479.703957   855.679097   \n",
       "std    ...   157.631760    817.572534     208.574548   441.088279   \n",
       "min    ...    90.000000     18.000000     101.000000    45.000000   \n",
       "25%    ...    90.000000    303.000000     341.000000   630.000000   \n",
       "50%    ...   180.000000    600.000000     485.000000   840.000000   \n",
       "75%    ...   240.000000   1029.500000     671.000000  1050.000000   \n",
       "max    ...  1620.000000  12256.000000     815.000000  4986.000000   \n",
       "\n",
       "         o_rcf_1_e  o_rcf_1_place       o_dlv_p        o_dlv_e       o_hops  \\\n",
       "count  3942.000000    3942.000000   3942.000000    3942.000000  3942.000000   \n",
       "mean    690.343734     461.304414   3573.239726    3698.563673     1.474632   \n",
       "std     446.911715     240.296704   1734.596116   14422.433250     0.512459   \n",
       "min       1.000000     100.000000    240.000000       1.000000     1.000000   \n",
       "25%     385.000000     206.000000   2880.000000     400.000000     1.000000   \n",
       "50%     658.500000     476.000000   3780.000000    1201.500000     1.000000   \n",
       "75%     920.000000     700.000000   4080.000000    3174.250000     2.000000   \n",
       "max    5520.000000     815.000000  11520.000000  560130.000000     3.000000   \n",
       "\n",
       "              legs  \n",
       "count  3942.000000  \n",
       "mean      2.012177  \n",
       "std       0.825165  \n",
       "min       1.000000  \n",
       "25%       1.000000  \n",
       "50%       2.000000  \n",
       "75%       3.000000  \n",
       "max       3.000000  \n",
       "\n",
       "[8 rows x 26 columns]"
      ]
     },
     "execution_count": 5,
     "metadata": {},
     "output_type": "execute_result"
    }
   ],
   "source": [
    "df.describe()"
   ]
  },
  {
   "cell_type": "code",
   "execution_count": 6,
   "id": "f9fadf5c",
   "metadata": {},
   "outputs": [
    {
     "name": "stdout",
     "output_type": "stream",
     "text": [
      "<class 'pandas.core.frame.DataFrame'>\n",
      "RangeIndex: 3943 entries, 0 to 3942\n",
      "Data columns (total 98 columns):\n",
      " #   Column          Non-Null Count  Dtype  \n",
      "---  ------          --------------  -----  \n",
      " 0   nr              3942 non-null   float64\n",
      " 1   i1_legid        3942 non-null   float64\n",
      " 2   i1_rcs_p        3942 non-null   float64\n",
      " 3   i1_rcs_e        3942 non-null   float64\n",
      " 4   i1_dep_1_p      3942 non-null   float64\n",
      " 5   i1_dep_1_e      3942 non-null   float64\n",
      " 6   i1_dep_1_place  3942 non-null   float64\n",
      " 7   i1_rcf_1_p      3942 non-null   float64\n",
      " 8   i1_rcf_1_e      3942 non-null   float64\n",
      " 9   i1_rcf_1_place  3942 non-null   float64\n",
      " 10  i1_dep_2_p      3942 non-null   object \n",
      " 11  i1_dep_2_e      3942 non-null   object \n",
      " 12  i1_dep_2_place  3942 non-null   object \n",
      " 13  i1_rcf_2_p      3942 non-null   object \n",
      " 14  i1_rcf_2_e      3942 non-null   object \n",
      " 15  i1_rcf_2_place  3942 non-null   object \n",
      " 16  i1_dep_3_p      3942 non-null   object \n",
      " 17  i1_dep_3_e      3942 non-null   object \n",
      " 18  i1_dep_3_place  3942 non-null   object \n",
      " 19  i1_rcf_3_p      3942 non-null   object \n",
      " 20  i1_rcf_3_e      3942 non-null   object \n",
      " 21  i1_rcf_3_place  3942 non-null   object \n",
      " 22  i1_dlv_p        3942 non-null   float64\n",
      " 23  i1_dlv_e        3942 non-null   float64\n",
      " 24  i1_hops         3942 non-null   float64\n",
      " 25  i2_legid        3942 non-null   object \n",
      " 26  i2_rcs_p        3942 non-null   object \n",
      " 27  i2_rcs_e        3942 non-null   object \n",
      " 28  i2_dep_1_p      3942 non-null   object \n",
      " 29  i2_dep_1_e      3942 non-null   object \n",
      " 30  i2_dep_1_place  3942 non-null   object \n",
      " 31  i2_rcf_1_p      3942 non-null   object \n",
      " 32  i2_rcf_1_e      3942 non-null   object \n",
      " 33  i2_rcf_1_place  3942 non-null   object \n",
      " 34  i2_dep_2_p      3942 non-null   object \n",
      " 35  i2_dep_2_e      3942 non-null   object \n",
      " 36  i2_dep_2_place  3942 non-null   object \n",
      " 37  i2_rcf_2_p      3942 non-null   object \n",
      " 38  i2_rcf_2_e      3942 non-null   object \n",
      " 39  i2_rcf_2_place  3942 non-null   object \n",
      " 40  i2_dep_3_p      3942 non-null   object \n",
      " 41  i2_dep_3_e      3942 non-null   object \n",
      " 42  i2_dep_3_place  3942 non-null   object \n",
      " 43  i2_rcf_3_p      3942 non-null   object \n",
      " 44  i2_rcf_3_e      3942 non-null   object \n",
      " 45  i2_rcf_3_place  3942 non-null   object \n",
      " 46  i2_dlv_p        3942 non-null   object \n",
      " 47  i2_dlv_e        3942 non-null   object \n",
      " 48  i2_hops         3942 non-null   object \n",
      " 49  i3_legid        3942 non-null   object \n",
      " 50  i3_rcs_p        3942 non-null   object \n",
      " 51  i3_rcs_e        3942 non-null   object \n",
      " 52  i3_dep_1_p      3942 non-null   object \n",
      " 53  i3_dep_1_e      3942 non-null   object \n",
      " 54  i3_dep_1_place  3942 non-null   object \n",
      " 55  i3_rcf_1_p      3942 non-null   object \n",
      " 56  i3_rcf_1_e      3942 non-null   object \n",
      " 57  i3_rcf_1_place  3942 non-null   object \n",
      " 58  i3_dep_2_p      3942 non-null   object \n",
      " 59  i3_dep_2_e      3942 non-null   object \n",
      " 60  i3_dep_2_place  3942 non-null   object \n",
      " 61  i3_rcf_2_p      3942 non-null   object \n",
      " 62  i3_rcf_2_e      3942 non-null   object \n",
      " 63  i3_rcf_2_place  3942 non-null   object \n",
      " 64  i3_dep_3_p      3942 non-null   object \n",
      " 65  i3_dep_3_e      3942 non-null   object \n",
      " 66  i3_dep_3_place  3942 non-null   object \n",
      " 67  i3_rcf_3_p      3942 non-null   object \n",
      " 68  i3_rcf_3_e      3942 non-null   object \n",
      " 69  i3_rcf_3_place  3942 non-null   object \n",
      " 70  i3_dlv_p        3942 non-null   object \n",
      " 71  i3_dlv_e        3942 non-null   object \n",
      " 72  i3_hops         3942 non-null   object \n",
      " 73  o_legid         3942 non-null   float64\n",
      " 74  o_rcs_p         3942 non-null   float64\n",
      " 75  o_rcs_e         3942 non-null   float64\n",
      " 76  o_dep_1_p       3942 non-null   float64\n",
      " 77  o_dep_1_e       3942 non-null   float64\n",
      " 78  o_dep_1_place   3942 non-null   float64\n",
      " 79  o_rcf_1_p       3942 non-null   float64\n",
      " 80  o_rcf_1_e       3942 non-null   float64\n",
      " 81  o_rcf_1_place   3942 non-null   float64\n",
      " 82  o_dep_2_p       3942 non-null   object \n",
      " 83  o_dep_2_e       3942 non-null   object \n",
      " 84  o_dep_2_place   3942 non-null   object \n",
      " 85  o_rcf_2_p       3942 non-null   object \n",
      " 86  o_rcf_2_e       3942 non-null   object \n",
      " 87  o_rcf_2_place   3942 non-null   object \n",
      " 88  o_dep_3_p       3942 non-null   object \n",
      " 89  o_dep_3_e       3942 non-null   object \n",
      " 90  o_dep_3_place   3942 non-null   object \n",
      " 91  o_rcf_3_p       3942 non-null   object \n",
      " 92  o_rcf_3_e       3942 non-null   object \n",
      " 93  o_rcf_3_place   3942 non-null   object \n",
      " 94  o_dlv_p         3942 non-null   float64\n",
      " 95  o_dlv_e         3942 non-null   float64\n",
      " 96  o_hops          3942 non-null   float64\n",
      " 97  legs            3942 non-null   float64\n",
      "dtypes: float64(26), object(72)\n",
      "memory usage: 2.9+ MB\n"
     ]
    }
   ],
   "source": [
    "df.info()"
   ]
  },
  {
   "cell_type": "code",
   "execution_count": 7,
   "id": "bbb20c39",
   "metadata": {},
   "outputs": [
    {
     "data": {
      "text/plain": [
       "nr               1\n",
       "i1_legid         1\n",
       "i1_rcs_p         1\n",
       "i1_rcs_e         1\n",
       "i1_dep_1_p       1\n",
       "                ..\n",
       "o_rcf_3_place    1\n",
       "o_dlv_p          1\n",
       "o_dlv_e          1\n",
       "o_hops           1\n",
       "legs             1\n",
       "Length: 98, dtype: int64"
      ]
     },
     "execution_count": 7,
     "metadata": {},
     "output_type": "execute_result"
    }
   ],
   "source": [
    "df.isnull().sum()"
   ]
  },
  {
   "cell_type": "code",
   "execution_count": 8,
   "id": "bbf5a61d",
   "metadata": {},
   "outputs": [
    {
     "data": {
      "text/plain": [
       "Index(['nr', 'i1_legid', 'i1_rcs_p', 'i1_rcs_e', 'i1_dep_1_p', 'i1_dep_1_e',\n",
       "       'i1_dep_1_place', 'i1_rcf_1_p', 'i1_rcf_1_e', 'i1_rcf_1_place',\n",
       "       'i1_dep_2_p', 'i1_dep_2_e', 'i1_dep_2_place', 'i1_rcf_2_p',\n",
       "       'i1_rcf_2_e', 'i1_rcf_2_place', 'i1_dep_3_p', 'i1_dep_3_e',\n",
       "       'i1_dep_3_place', 'i1_rcf_3_p', 'i1_rcf_3_e', 'i1_rcf_3_place',\n",
       "       'i1_dlv_p', 'i1_dlv_e', 'i1_hops', 'i2_legid', 'i2_rcs_p', 'i2_rcs_e',\n",
       "       'i2_dep_1_p', 'i2_dep_1_e', 'i2_dep_1_place', 'i2_rcf_1_p',\n",
       "       'i2_rcf_1_e', 'i2_rcf_1_place', 'i2_dep_2_p', 'i2_dep_2_e',\n",
       "       'i2_dep_2_place', 'i2_rcf_2_p', 'i2_rcf_2_e', 'i2_rcf_2_place',\n",
       "       'i2_dep_3_p', 'i2_dep_3_e', 'i2_dep_3_place', 'i2_rcf_3_p',\n",
       "       'i2_rcf_3_e', 'i2_rcf_3_place', 'i2_dlv_p', 'i2_dlv_e', 'i2_hops',\n",
       "       'i3_legid', 'i3_rcs_p', 'i3_rcs_e', 'i3_dep_1_p', 'i3_dep_1_e',\n",
       "       'i3_dep_1_place', 'i3_rcf_1_p', 'i3_rcf_1_e', 'i3_rcf_1_place',\n",
       "       'i3_dep_2_p', 'i3_dep_2_e', 'i3_dep_2_place', 'i3_rcf_2_p',\n",
       "       'i3_rcf_2_e', 'i3_rcf_2_place', 'i3_dep_3_p', 'i3_dep_3_e',\n",
       "       'i3_dep_3_place', 'i3_rcf_3_p', 'i3_rcf_3_e', 'i3_rcf_3_place',\n",
       "       'i3_dlv_p', 'i3_dlv_e', 'i3_hops', 'o_legid', 'o_rcs_p', 'o_rcs_e',\n",
       "       'o_dep_1_p', 'o_dep_1_e', 'o_dep_1_place', 'o_rcf_1_p', 'o_rcf_1_e',\n",
       "       'o_rcf_1_place', 'o_dep_2_p', 'o_dep_2_e', 'o_dep_2_place', 'o_rcf_2_p',\n",
       "       'o_rcf_2_e', 'o_rcf_2_place', 'o_dep_3_p', 'o_dep_3_e', 'o_dep_3_place',\n",
       "       'o_rcf_3_p', 'o_rcf_3_e', 'o_rcf_3_place', 'o_dlv_p', 'o_dlv_e',\n",
       "       'o_hops', 'legs'],\n",
       "      dtype='object')"
      ]
     },
     "execution_count": 8,
     "metadata": {},
     "output_type": "execute_result"
    }
   ],
   "source": [
    "df.columns"
   ]
  },
  {
   "cell_type": "code",
   "execution_count": 9,
   "id": "7fb61516",
   "metadata": {},
   "outputs": [
    {
     "data": {
      "text/plain": [
       "0"
      ]
     },
     "execution_count": 9,
     "metadata": {},
     "output_type": "execute_result"
    }
   ],
   "source": [
    "df.duplicated().sum()"
   ]
  },
  {
   "cell_type": "code",
   "execution_count": 10,
   "id": "edee981d",
   "metadata": {},
   "outputs": [],
   "source": [
    "df1 = df.dropna()"
   ]
  },
  {
   "cell_type": "code",
   "execution_count": 11,
   "id": "987b5fa3",
   "metadata": {},
   "outputs": [
    {
     "data": {
      "text/plain": [
       "nr               0\n",
       "i1_legid         0\n",
       "i1_rcs_p         0\n",
       "i1_rcs_e         0\n",
       "i1_dep_1_p       0\n",
       "                ..\n",
       "o_rcf_3_place    0\n",
       "o_dlv_p          0\n",
       "o_dlv_e          0\n",
       "o_hops           0\n",
       "legs             0\n",
       "Length: 98, dtype: int64"
      ]
     },
     "execution_count": 11,
     "metadata": {},
     "output_type": "execute_result"
    }
   ],
   "source": [
    "df1.isnull().sum()"
   ]
  },
  {
   "cell_type": "code",
   "execution_count": 12,
   "id": "5223e66b",
   "metadata": {},
   "outputs": [
    {
     "data": {
      "text/plain": [
       "array(['?', '1340', '340', '460', '1014', '495', '905', '660', '3695',\n",
       "       '1365', '1845', '1785', '485', '1355', '680', '290', '2990', '400',\n",
       "       '280', '1030', '385', '405', '1055', '1855', '710', '1230', '1410',\n",
       "       '1175', '1315', '475', '765', '810', '300', '1110', '135', '365',\n",
       "       '795', '375', '260', '1535', '390', '1105', '305', '665', '650',\n",
       "       '1420', '325', '910', '1445', '560', '615', '1350', '1140', '335',\n",
       "       '1910', '1565', '635', '700', '330', '780', '55', '380', '65',\n",
       "       '240', '85', '915', '120', '470', '1510', '760', '1650', '1065',\n",
       "       '1500', '1310', '1525', '95', '1035', '1505', '1675', '890', '980',\n",
       "       '500', '800', '185', '3840', '2800', '720', '585', '110', '965',\n",
       "       '1930', '825', '45', '370', '50', '480', '1660', '1200', '815',\n",
       "       '360', '5705', '580', '60', '160', '860', '2070', '2795', '1740',\n",
       "       '285', '2607', '3605', '1345', '2270', '424', '960', '3000',\n",
       "       '1215', '2765', '705', '320', '195', '270', '1145', '2540', '820',\n",
       "       '630', '20', '515', '1795', '1395', '990', '850', '1225', '1975',\n",
       "       '1415', '4120', '510', '2645', '165', '465', '205', '1475', '10',\n",
       "       '1075', '235', '685', '1280', '445', '3040', '3049', '130', '425',\n",
       "       '885', '105', '2620', '89', '295', '1360', '1555', '1205', '310',\n",
       "       '855', '770', '625', '5395', '1570', '925', '2330', '430', '900',\n",
       "       '595', '200', '1245', '1100', '640', '1270', '410', '1400', '490',\n",
       "       '620', '1090', '775', '1390', '1190', '265', '840', '540', '1095',\n",
       "       '570', '1830', '15', '2750', '940', '1635', '995', '2015', '210',\n",
       "       '1690', '1265', '955', '395', '355', '225', '1960', '1250', '75',\n",
       "       '2490', '1070', '1725', '1645', '175', '440', '5255', '190', '535',\n",
       "       '985', '1040', '1515', '875', '90', '350', '605', '575', '555',\n",
       "       '1715', '1330', '645', '3350', '835', '565', '1015', '180', '600',\n",
       "       '3725', '1485', '550', '250', '1995', '145', '1240', '100', '1530',\n",
       "       '545', '1060', '845', '505', '2610', '1470', '150', '1585', '455',\n",
       "       '740', '70', '1980', '3240', '40', '1460', '3570', '1045', '1425',\n",
       "       '2855', '155', '1630', '1255', '435', '3180', '1655', '730',\n",
       "       '2700', '1926', '790', '80', '220', '35', '3275', '1900', '1780',\n",
       "       '930', '1275', '420', '964', '1120', '1290', '4880', '1185',\n",
       "       '2010', '1520', '1380', '1325', '690', '805', '745', '1115',\n",
       "       '2150', '2345', '1210', '1545', '1970', '2155', '725', '1150',\n",
       "       '25', '345', '655', '215', '434', '1600', '3935', '670', '1180',\n",
       "       '2935', '5', '920', '2810', '10690', '1080', '315', '1705', '1685',\n",
       "       '1385', '750', '2061', '1405', '255', '275', '1880', '1155', '830',\n",
       "       '755', '2190', '3710', '5630', '1235', '4285', '1765', '1825',\n",
       "       '1295', '1560', '1025', '1085', '1020', '3735', '245', '1195',\n",
       "       '895', '1495', '170', '1160', '1285', '1805', '525', '1540',\n",
       "       '1300', '30', '590', '1050', '2400', '695', '1915', '1595', '1835',\n",
       "       '1730', '1870', '2925', '1005', '1480', '3375', '880', '610',\n",
       "       '1130', '115', '3230', '3005', '4935', '2390', '735', '1810',\n",
       "       '2300', '975', '4245', '415', '2120', '4630', '520', '2535',\n",
       "       '2550', '1700', '1550', '1370', '125', '3455', '4825', '4175',\n",
       "       '2600', '2265', '870', '1750', '1430', '230', '1455', '1580',\n",
       "       '7470', '994', '450', '2225', '2555', '2840', '2105', '2590',\n",
       "       '5790', '2385', '1860', '1010', '1935', '2915'], dtype=object)"
      ]
     },
     "execution_count": 12,
     "metadata": {},
     "output_type": "execute_result"
    }
   ],
   "source": [
    "df1['i1_dep_2_p'].unique()"
   ]
  },
  {
   "cell_type": "code",
   "execution_count": 15,
   "id": "0f4ddfed",
   "metadata": {},
   "outputs": [
    {
     "data": {
      "text/plain": [
       "array(['?', '1109', '289', '563', '1531', '655', '983', '784', '3647',\n",
       "       '1485', '1786', '649', '2014', '534', '461', '429', '3143', '451',\n",
       "       '266', '1285', '335', '206', '1087', '1841', '779', '707', '1478',\n",
       "       '1273', '1471', '776', '718', '1126', '265', '1089', '329', '481',\n",
       "       '917', '547', '229', '355', '1518', '166', '1422', '558', '636',\n",
       "       '855', '1835', '360', '880', '1834', '813', '1114', '862', '1468',\n",
       "       '1163', '477', '2017', '1707', '884', '943', '421', '793', '177',\n",
       "       '232', '571', '657', '353', '349', '313', '1077', '331', '1137',\n",
       "       '294', '801', '1778', '1068', '1579', '1187', '325', '1318',\n",
       "       '6091', '103', '1046', '1881', '1624', '871', '1051', '732', '812',\n",
       "       '216', '2771', '2970', '605', '646', '478', '1409', '1255', '564',\n",
       "       '2553', '1069', '334', '503', '125', '1743', '804', '1811', '1399',\n",
       "       '1325', '337', '6186', '297', '915', '2571', '654', '310', '542',\n",
       "       '842', '252', '1420', '363', '338', '856', '1251', '626', '2883',\n",
       "       '1501', '520', '2386', '5430', '1570', '2537', '411', '550',\n",
       "       '1262', '961', '1569', '3259', '1193', '3303', '857', '499', '521',\n",
       "       '1377', '2785', '829', '1105', '607', '231', '638', '413', '1857',\n",
       "       '1577', '1079', '729', '1146', '1417', '942', '2243', '3051',\n",
       "       '708', '154', '3614', '4500', '410', '1129', '432', '2227', '153',\n",
       "       '828', '186', '282', '460', '1235', '428', '267', '529', '910',\n",
       "       '1403', '672', '908', '2042', '705', '2387', '3450', '312', '414',\n",
       "       '736', '745', '107', '2836', '52', '1296', '1541', '291', '1311',\n",
       "       '494', '886', '1133', '370', '772', '1178', '1537', '374', '795',\n",
       "       '2596', '755', '545', '955', '504', '1497', '622', '435', '224',\n",
       "       '1222', '536', '992', '430', '1324', '463', '2777', '447', '1616',\n",
       "       '610', '1233', '1201', '751', '798', '951', '525', '1520', '308',\n",
       "       '531', '259', '970', '544', '1266', '277', '920', '228', '990',\n",
       "       '535', '381', '162', '1117', '530', '321', '276', '2910', '914',\n",
       "       '342', '1923', '1738', '394', '1219', '2076', '2484', '1229',\n",
       "       '1552', '348', '1060', '1093', '1064', '1002', '1867', '743',\n",
       "       '556', '1101', '1202', '560', '1056', '513', '1894', '883', '1474',\n",
       "       '1198', '728', '1336', '285', '1620', '858', '1070', '608', '1036',\n",
       "       '933', '274', '2225', '1516', '635', '319', '2577', '724', '1456',\n",
       "       '1758', '921', '445', '586', '356', '5526', '402', '606', '263',\n",
       "       '1461', '288', '1472', '1009', '384', '721', '969', '819', '1992',\n",
       "       '505', '1143', '730', '3682', '781', '1304', '1418', '1966', '453',\n",
       "       '1018', '773', '400', '317', '248', '978', '4076', '1661', '1316',\n",
       "       '576', '546', '475', '200', '2237', '156', '675', '1362', '1502',\n",
       "       '1358', '737', '352', '1548', '1862', '219', '539', '173', '160',\n",
       "       '484', '422', '800', '1139', '305', '584', '821', '836', '733',\n",
       "       '438', '359', '1930', '1909', '2991', '1466', '526', '714', '522',\n",
       "       '1952', '417', '1529', '623', '215', '944', '763', '1635', '196',\n",
       "       '182', '817', '309', '1555', '2304', '532', '3471', '244', '659',\n",
       "       '2432', '841', '346', '1533', '1169', '1634', '448', '515', '3196',\n",
       "       '1061', '670', '746', '147', '217', '1015', '677', '132', '1752',\n",
       "       '406', '1486', '770', '3558', '1681', '726', '1463', '1259',\n",
       "       '2653', '1421', '2241', '831', '629', '1586', '918', '1347', '199',\n",
       "       '220', '345', '1700', '1458', '81', '637', '1048', '1303', '1074',\n",
       "       '3622', '2053', '1717', '1159', '725', '907', '1659', '903', '686',\n",
       "       '1086', '45', '573', '1382', '1426', '364', '939', '1150', '5283',\n",
       "       '1176', '1988', '688', '1546', '369', '1300', '1594', '1621',\n",
       "       '427', '647', '1014', '839', '1184', '464', '483', '767', '2623',\n",
       "       '1742', '741', '894', '324', '1496', '870', '419', '99', '508',\n",
       "       '439', '965', '905', '1494', '1034', '450', '482', '1149', '667',\n",
       "       '1487', '1527', '416', '393', '720', '860', '2438', '648', '272',\n",
       "       '581', '2592', '987', '367', '1216', '1993', '1657', '1154', '336',\n",
       "       '652', '311', '169', '579', '2457', '541', '892', '2041', '799',\n",
       "       '975', '1509', '634', '1499', '792', '314', '1284', '203', '247',\n",
       "       '2027', '474', '487', '590', '279', '960', '1605', '853', '327',\n",
       "       '1008', '537', '268', '1294', '890', '749', '458', '365', '1385',\n",
       "       '1447', '328', '1532', '568', '1545', '1749', '426', '588', '1295',\n",
       "       '809', '989', '495', '1213', '1542', '3006', '2765', '286', '198',\n",
       "       '408', '493', '932', '1432', '1128', '2706', '758', '11046',\n",
       "       '1168', '469', '1058', '611', '927', '1615', '512', '1510', '861',\n",
       "       '551', '2418', '1733', '284', '1948', '403', '559', '1523', '2280',\n",
       "       '1145', '1220', '304', '1152', '491', '661', '834', '1437', '436',\n",
       "       '1838', '561', '1511', '431', '777', '876', '617', '418', '2348',\n",
       "       '1633', '997', '1603', '492', '3878', '227', '1408', '303', '5898',\n",
       "       '1297', '1425', '1223', '240', '4632', '1871', '128', '1151',\n",
       "       '658', '1326', '94', '1125', '832', '1515', '671', '316', '875',\n",
       "       '1106', '437', '849', '1926', '270', '1513', '404', '516', '789',\n",
       "       '181', '790', '1277', '580', '376', '899', '1210', '178', '929',\n",
       "       '1817', '306', '1144', '633', '786', '1026', '1090', '1208',\n",
       "       '1446', '1847', '976', '1512', '1528', '696', '555', '407', '1230',\n",
       "       '1279', '101', '1047', '497', '1033', '711', '396', '1428', '1427',\n",
       "       '1562', '2516', '575', '1130', '682', '1406', '2102', '766', '662',\n",
       "       '566', '500', '1524', '1211', '471', '807', '1642', '1231', '988',\n",
       "       '488', '2122', '764', '1053', '1281', '465', '2338', '2977',\n",
       "       '1039', '449', '472', '2672', '1234', '2341', '618', '1327', '935',\n",
       "       '131', '397', '1269', '485', '3545', '2994', '5023', '517', '73',\n",
       "       '318', '3160', '195', '928', '1192', '823', '713', '639', '734',\n",
       "       '1490', '2007', '619', '133', '685', '2670', '570', '1342', '794',\n",
       "       '833', '754', '501', '210', '1536', '797', '815', '1122', '640',\n",
       "       '4474', '663', '1263', '748', '1410', '585', '868', '373', '666',\n",
       "       '35', '377', '2312', '1108', '4949', '172', '2169', '864', '999',\n",
       "       '1493', '669', '1439', '2549', '489', '719', '2201', '1345', '615',\n",
       "       '1910', '188', '1353', '1186', '1243', '392', '674', '361', '145',\n",
       "       '287', '596', '320', '574', '457', '3818', '1322', '1431', '780',\n",
       "       '1467', '740', '241', '140', '1335', '462', '4368', '4177', '1206',\n",
       "       '814', '1372', '1444', '676', '1613', '922', '2397', '645', '872',\n",
       "       '1787', '1280', '1665', '846', '1113', '2544', '386', '473', '226',\n",
       "       '595', '1204', '271', '174', '1197', '1055', '643', '1649', '1660',\n",
       "       '1287', '506', '912', '882', '1671', '1173', '940', '459', '468',\n",
       "       '1032', '90', '877', '540', '11550', '2026', '533', '609', '1352',\n",
       "       '1448', '598', '273', '845', '591', '631', '820', '802', '2209',\n",
       "       '653', '2089', '937', '1765', '136', '957', '283', '878', '1175',\n",
       "       '695', '3114', '562', '2252', '665', '2327', '1977', '805', '5203',\n",
       "       '2456', '148', '565', '811', '2414', '826', '1103', '699', '830',\n",
       "       '1215', '1209', '420', '1282', '1375', '151', '1037', '60', '1998',\n",
       "       '644', '879', '543', '694', '3005'], dtype=object)"
      ]
     },
     "execution_count": 15,
     "metadata": {},
     "output_type": "execute_result"
    }
   ],
   "source": [
    "df1['i1_dep_2_e'].unique()"
   ]
  },
  {
   "cell_type": "code",
   "execution_count": 16,
   "id": "df3d1214",
   "metadata": {},
   "outputs": [
    {
     "name": "stdout",
     "output_type": "stream",
     "text": [
      "2747\n"
     ]
    }
   ],
   "source": [
    "count = df1['i1_dep_2_e'].value_counts()['?']\n",
    "print(count)"
   ]
  },
  {
   "cell_type": "code",
   "execution_count": 17,
   "id": "41be3f3a",
   "metadata": {},
   "outputs": [
    {
     "data": {
      "text/html": [
       "<div>\n",
       "<style scoped>\n",
       "    .dataframe tbody tr th:only-of-type {\n",
       "        vertical-align: middle;\n",
       "    }\n",
       "\n",
       "    .dataframe tbody tr th {\n",
       "        vertical-align: top;\n",
       "    }\n",
       "\n",
       "    .dataframe thead th {\n",
       "        text-align: right;\n",
       "    }\n",
       "</style>\n",
       "<table border=\"1\" class=\"dataframe\">\n",
       "  <thead>\n",
       "    <tr style=\"text-align: right;\">\n",
       "      <th></th>\n",
       "      <th>nr</th>\n",
       "      <th>i1_legid</th>\n",
       "      <th>i1_rcs_p</th>\n",
       "      <th>i1_rcs_e</th>\n",
       "      <th>i1_dep_1_p</th>\n",
       "      <th>i1_dep_1_e</th>\n",
       "      <th>i1_dep_1_place</th>\n",
       "      <th>i1_rcf_1_p</th>\n",
       "      <th>i1_rcf_1_e</th>\n",
       "      <th>i1_rcf_1_place</th>\n",
       "      <th>...</th>\n",
       "      <th>o_dep_3_p</th>\n",
       "      <th>o_dep_3_e</th>\n",
       "      <th>o_dep_3_place</th>\n",
       "      <th>o_rcf_3_p</th>\n",
       "      <th>o_rcf_3_e</th>\n",
       "      <th>o_rcf_3_place</th>\n",
       "      <th>o_dlv_p</th>\n",
       "      <th>o_dlv_e</th>\n",
       "      <th>o_hops</th>\n",
       "      <th>legs</th>\n",
       "    </tr>\n",
       "  </thead>\n",
       "  <tbody>\n",
       "    <tr>\n",
       "      <th>0</th>\n",
       "      <td>0.0</td>\n",
       "      <td>5182.0</td>\n",
       "      <td>199.0</td>\n",
       "      <td>218.0</td>\n",
       "      <td>210.0</td>\n",
       "      <td>215.0</td>\n",
       "      <td>609.0</td>\n",
       "      <td>935.0</td>\n",
       "      <td>736.0</td>\n",
       "      <td>256.0</td>\n",
       "      <td>...</td>\n",
       "      <td>NaN</td>\n",
       "      <td>NaN</td>\n",
       "      <td>NaN</td>\n",
       "      <td>NaN</td>\n",
       "      <td>NaN</td>\n",
       "      <td>NaN</td>\n",
       "      <td>780.0</td>\n",
       "      <td>434.0</td>\n",
       "      <td>1.0</td>\n",
       "      <td>2.0</td>\n",
       "    </tr>\n",
       "    <tr>\n",
       "      <th>1</th>\n",
       "      <td>1.0</td>\n",
       "      <td>6523.0</td>\n",
       "      <td>844.0</td>\n",
       "      <td>584.0</td>\n",
       "      <td>90.0</td>\n",
       "      <td>297.0</td>\n",
       "      <td>700.0</td>\n",
       "      <td>1935.0</td>\n",
       "      <td>1415.0</td>\n",
       "      <td>431.0</td>\n",
       "      <td>...</td>\n",
       "      <td>NaN</td>\n",
       "      <td>NaN</td>\n",
       "      <td>NaN</td>\n",
       "      <td>NaN</td>\n",
       "      <td>NaN</td>\n",
       "      <td>NaN</td>\n",
       "      <td>3870.0</td>\n",
       "      <td>445.0</td>\n",
       "      <td>1.0</td>\n",
       "      <td>2.0</td>\n",
       "    </tr>\n",
       "    <tr>\n",
       "      <th>2</th>\n",
       "      <td>2.0</td>\n",
       "      <td>5878.0</td>\n",
       "      <td>4380.0</td>\n",
       "      <td>4119.0</td>\n",
       "      <td>90.0</td>\n",
       "      <td>280.0</td>\n",
       "      <td>456.0</td>\n",
       "      <td>905.0</td>\n",
       "      <td>547.0</td>\n",
       "      <td>700.0</td>\n",
       "      <td>...</td>\n",
       "      <td>NaN</td>\n",
       "      <td>NaN</td>\n",
       "      <td>NaN</td>\n",
       "      <td>NaN</td>\n",
       "      <td>NaN</td>\n",
       "      <td>NaN</td>\n",
       "      <td>550.0</td>\n",
       "      <td>1520.0</td>\n",
       "      <td>1.0</td>\n",
       "      <td>1.0</td>\n",
       "    </tr>\n",
       "    <tr>\n",
       "      <th>3</th>\n",
       "      <td>3.0</td>\n",
       "      <td>1275.0</td>\n",
       "      <td>759.0</td>\n",
       "      <td>169.0</td>\n",
       "      <td>240.0</td>\n",
       "      <td>777.0</td>\n",
       "      <td>173.0</td>\n",
       "      <td>340.0</td>\n",
       "      <td>577.0</td>\n",
       "      <td>349.0</td>\n",
       "      <td>...</td>\n",
       "      <td>NaN</td>\n",
       "      <td>NaN</td>\n",
       "      <td>NaN</td>\n",
       "      <td>NaN</td>\n",
       "      <td>NaN</td>\n",
       "      <td>NaN</td>\n",
       "      <td>3780.0</td>\n",
       "      <td>159.0</td>\n",
       "      <td>1.0</td>\n",
       "      <td>1.0</td>\n",
       "    </tr>\n",
       "    <tr>\n",
       "      <th>4</th>\n",
       "      <td>4.0</td>\n",
       "      <td>8117.0</td>\n",
       "      <td>1597.0</td>\n",
       "      <td>1485.0</td>\n",
       "      <td>150.0</td>\n",
       "      <td>241.0</td>\n",
       "      <td>411.0</td>\n",
       "      <td>585.0</td>\n",
       "      <td>612.0</td>\n",
       "      <td>128.0</td>\n",
       "      <td>...</td>\n",
       "      <td>NaN</td>\n",
       "      <td>NaN</td>\n",
       "      <td>NaN</td>\n",
       "      <td>NaN</td>\n",
       "      <td>NaN</td>\n",
       "      <td>NaN</td>\n",
       "      <td>4140.0</td>\n",
       "      <td>4797.0</td>\n",
       "      <td>2.0</td>\n",
       "      <td>1.0</td>\n",
       "    </tr>\n",
       "    <tr>\n",
       "      <th>...</th>\n",
       "      <td>...</td>\n",
       "      <td>...</td>\n",
       "      <td>...</td>\n",
       "      <td>...</td>\n",
       "      <td>...</td>\n",
       "      <td>...</td>\n",
       "      <td>...</td>\n",
       "      <td>...</td>\n",
       "      <td>...</td>\n",
       "      <td>...</td>\n",
       "      <td>...</td>\n",
       "      <td>...</td>\n",
       "      <td>...</td>\n",
       "      <td>...</td>\n",
       "      <td>...</td>\n",
       "      <td>...</td>\n",
       "      <td>...</td>\n",
       "      <td>...</td>\n",
       "      <td>...</td>\n",
       "      <td>...</td>\n",
       "      <td>...</td>\n",
       "    </tr>\n",
       "    <tr>\n",
       "      <th>3937</th>\n",
       "      <td>3938.0</td>\n",
       "      <td>4166.0</td>\n",
       "      <td>703.0</td>\n",
       "      <td>360.0</td>\n",
       "      <td>210.0</td>\n",
       "      <td>493.0</td>\n",
       "      <td>233.0</td>\n",
       "      <td>1000.0</td>\n",
       "      <td>908.0</td>\n",
       "      <td>815.0</td>\n",
       "      <td>...</td>\n",
       "      <td>NaN</td>\n",
       "      <td>NaN</td>\n",
       "      <td>NaN</td>\n",
       "      <td>NaN</td>\n",
       "      <td>NaN</td>\n",
       "      <td>NaN</td>\n",
       "      <td>300.0</td>\n",
       "      <td>2512.0</td>\n",
       "      <td>2.0</td>\n",
       "      <td>3.0</td>\n",
       "    </tr>\n",
       "    <tr>\n",
       "      <th>3938</th>\n",
       "      <td>3939.0</td>\n",
       "      <td>4225.0</td>\n",
       "      <td>122.0</td>\n",
       "      <td>19.0</td>\n",
       "      <td>240.0</td>\n",
       "      <td>278.0</td>\n",
       "      <td>815.0</td>\n",
       "      <td>830.0</td>\n",
       "      <td>761.0</td>\n",
       "      <td>174.0</td>\n",
       "      <td>...</td>\n",
       "      <td>NaN</td>\n",
       "      <td>NaN</td>\n",
       "      <td>NaN</td>\n",
       "      <td>NaN</td>\n",
       "      <td>NaN</td>\n",
       "      <td>NaN</td>\n",
       "      <td>1665.0</td>\n",
       "      <td>1300.0</td>\n",
       "      <td>2.0</td>\n",
       "      <td>3.0</td>\n",
       "    </tr>\n",
       "    <tr>\n",
       "      <th>3939</th>\n",
       "      <td>3940.0</td>\n",
       "      <td>14017.0</td>\n",
       "      <td>2028.0</td>\n",
       "      <td>413.0</td>\n",
       "      <td>270.0</td>\n",
       "      <td>1825.0</td>\n",
       "      <td>605.0</td>\n",
       "      <td>2610.0</td>\n",
       "      <td>2535.0</td>\n",
       "      <td>349.0</td>\n",
       "      <td>...</td>\n",
       "      <td>NaN</td>\n",
       "      <td>NaN</td>\n",
       "      <td>NaN</td>\n",
       "      <td>NaN</td>\n",
       "      <td>NaN</td>\n",
       "      <td>NaN</td>\n",
       "      <td>3780.0</td>\n",
       "      <td>807.0</td>\n",
       "      <td>2.0</td>\n",
       "      <td>1.0</td>\n",
       "    </tr>\n",
       "    <tr>\n",
       "      <th>3940</th>\n",
       "      <td>3941.0</td>\n",
       "      <td>4660.0</td>\n",
       "      <td>1356.0</td>\n",
       "      <td>178.0</td>\n",
       "      <td>240.0</td>\n",
       "      <td>1359.0</td>\n",
       "      <td>815.0</td>\n",
       "      <td>760.0</td>\n",
       "      <td>716.0</td>\n",
       "      <td>609.0</td>\n",
       "      <td>...</td>\n",
       "      <td>NaN</td>\n",
       "      <td>NaN</td>\n",
       "      <td>NaN</td>\n",
       "      <td>NaN</td>\n",
       "      <td>NaN</td>\n",
       "      <td>NaN</td>\n",
       "      <td>5100.0</td>\n",
       "      <td>4381.0</td>\n",
       "      <td>2.0</td>\n",
       "      <td>1.0</td>\n",
       "    </tr>\n",
       "    <tr>\n",
       "      <th>3941</th>\n",
       "      <td>3942.0</td>\n",
       "      <td>6472.0</td>\n",
       "      <td>2692.0</td>\n",
       "      <td>1856.0</td>\n",
       "      <td>90.0</td>\n",
       "      <td>867.0</td>\n",
       "      <td>700.0</td>\n",
       "      <td>1060.0</td>\n",
       "      <td>1049.0</td>\n",
       "      <td>113.0</td>\n",
       "      <td>...</td>\n",
       "      <td>NaN</td>\n",
       "      <td>NaN</td>\n",
       "      <td>NaN</td>\n",
       "      <td>NaN</td>\n",
       "      <td>NaN</td>\n",
       "      <td>NaN</td>\n",
       "      <td>3780.0</td>\n",
       "      <td>945.0</td>\n",
       "      <td>2.0</td>\n",
       "      <td>2.0</td>\n",
       "    </tr>\n",
       "  </tbody>\n",
       "</table>\n",
       "<p>3942 rows × 98 columns</p>\n",
       "</div>"
      ],
      "text/plain": [
       "          nr  i1_legid  i1_rcs_p  i1_rcs_e  i1_dep_1_p  i1_dep_1_e  \\\n",
       "0        0.0    5182.0     199.0     218.0       210.0       215.0   \n",
       "1        1.0    6523.0     844.0     584.0        90.0       297.0   \n",
       "2        2.0    5878.0    4380.0    4119.0        90.0       280.0   \n",
       "3        3.0    1275.0     759.0     169.0       240.0       777.0   \n",
       "4        4.0    8117.0    1597.0    1485.0       150.0       241.0   \n",
       "...      ...       ...       ...       ...         ...         ...   \n",
       "3937  3938.0    4166.0     703.0     360.0       210.0       493.0   \n",
       "3938  3939.0    4225.0     122.0      19.0       240.0       278.0   \n",
       "3939  3940.0   14017.0    2028.0     413.0       270.0      1825.0   \n",
       "3940  3941.0    4660.0    1356.0     178.0       240.0      1359.0   \n",
       "3941  3942.0    6472.0    2692.0    1856.0        90.0       867.0   \n",
       "\n",
       "      i1_dep_1_place  i1_rcf_1_p  i1_rcf_1_e  i1_rcf_1_place  ... o_dep_3_p  \\\n",
       "0              609.0       935.0       736.0           256.0  ...       NaN   \n",
       "1              700.0      1935.0      1415.0           431.0  ...       NaN   \n",
       "2              456.0       905.0       547.0           700.0  ...       NaN   \n",
       "3              173.0       340.0       577.0           349.0  ...       NaN   \n",
       "4              411.0       585.0       612.0           128.0  ...       NaN   \n",
       "...              ...         ...         ...             ...  ...       ...   \n",
       "3937           233.0      1000.0       908.0           815.0  ...       NaN   \n",
       "3938           815.0       830.0       761.0           174.0  ...       NaN   \n",
       "3939           605.0      2610.0      2535.0           349.0  ...       NaN   \n",
       "3940           815.0       760.0       716.0           609.0  ...       NaN   \n",
       "3941           700.0      1060.0      1049.0           113.0  ...       NaN   \n",
       "\n",
       "     o_dep_3_e o_dep_3_place o_rcf_3_p o_rcf_3_e o_rcf_3_place o_dlv_p  \\\n",
       "0          NaN           NaN       NaN       NaN           NaN   780.0   \n",
       "1          NaN           NaN       NaN       NaN           NaN  3870.0   \n",
       "2          NaN           NaN       NaN       NaN           NaN   550.0   \n",
       "3          NaN           NaN       NaN       NaN           NaN  3780.0   \n",
       "4          NaN           NaN       NaN       NaN           NaN  4140.0   \n",
       "...        ...           ...       ...       ...           ...     ...   \n",
       "3937       NaN           NaN       NaN       NaN           NaN   300.0   \n",
       "3938       NaN           NaN       NaN       NaN           NaN  1665.0   \n",
       "3939       NaN           NaN       NaN       NaN           NaN  3780.0   \n",
       "3940       NaN           NaN       NaN       NaN           NaN  5100.0   \n",
       "3941       NaN           NaN       NaN       NaN           NaN  3780.0   \n",
       "\n",
       "     o_dlv_e o_hops legs  \n",
       "0      434.0    1.0  2.0  \n",
       "1      445.0    1.0  2.0  \n",
       "2     1520.0    1.0  1.0  \n",
       "3      159.0    1.0  1.0  \n",
       "4     4797.0    2.0  1.0  \n",
       "...      ...    ...  ...  \n",
       "3937  2512.0    2.0  3.0  \n",
       "3938  1300.0    2.0  3.0  \n",
       "3939   807.0    2.0  1.0  \n",
       "3940  4381.0    2.0  1.0  \n",
       "3941   945.0    2.0  2.0  \n",
       "\n",
       "[3942 rows x 98 columns]"
      ]
     },
     "execution_count": 17,
     "metadata": {},
     "output_type": "execute_result"
    }
   ],
   "source": [
    "df1 = df1.replace('?',np.NaN)\n",
    "df1"
   ]
  },
  {
   "cell_type": "code",
   "execution_count": 18,
   "id": "2549f2f6",
   "metadata": {},
   "outputs": [
    {
     "data": {
      "text/html": [
       "<div>\n",
       "<style scoped>\n",
       "    .dataframe tbody tr th:only-of-type {\n",
       "        vertical-align: middle;\n",
       "    }\n",
       "\n",
       "    .dataframe tbody tr th {\n",
       "        vertical-align: top;\n",
       "    }\n",
       "\n",
       "    .dataframe thead th {\n",
       "        text-align: right;\n",
       "    }\n",
       "</style>\n",
       "<table border=\"1\" class=\"dataframe\">\n",
       "  <thead>\n",
       "    <tr style=\"text-align: right;\">\n",
       "      <th></th>\n",
       "      <th>nr</th>\n",
       "      <th>i1_legid</th>\n",
       "      <th>i1_rcs_p</th>\n",
       "      <th>i1_rcs_e</th>\n",
       "      <th>i1_dep_1_p</th>\n",
       "      <th>i1_dep_1_e</th>\n",
       "      <th>i1_dep_1_place</th>\n",
       "      <th>i1_rcf_1_p</th>\n",
       "      <th>i1_rcf_1_e</th>\n",
       "      <th>i1_rcf_1_place</th>\n",
       "      <th>...</th>\n",
       "      <th>o_dep_3_p</th>\n",
       "      <th>o_dep_3_e</th>\n",
       "      <th>o_dep_3_place</th>\n",
       "      <th>o_rcf_3_p</th>\n",
       "      <th>o_rcf_3_e</th>\n",
       "      <th>o_rcf_3_place</th>\n",
       "      <th>o_dlv_p</th>\n",
       "      <th>o_dlv_e</th>\n",
       "      <th>o_hops</th>\n",
       "      <th>legs</th>\n",
       "    </tr>\n",
       "  </thead>\n",
       "  <tbody>\n",
       "    <tr>\n",
       "      <th>0</th>\n",
       "      <td>0.0</td>\n",
       "      <td>5182.0</td>\n",
       "      <td>199.0</td>\n",
       "      <td>218.0</td>\n",
       "      <td>210.0</td>\n",
       "      <td>215.0</td>\n",
       "      <td>609.0</td>\n",
       "      <td>935.0</td>\n",
       "      <td>736.0</td>\n",
       "      <td>256.0</td>\n",
       "      <td>...</td>\n",
       "      <td>NaN</td>\n",
       "      <td>NaN</td>\n",
       "      <td>NaN</td>\n",
       "      <td>NaN</td>\n",
       "      <td>NaN</td>\n",
       "      <td>NaN</td>\n",
       "      <td>780.0</td>\n",
       "      <td>434.0</td>\n",
       "      <td>1.0</td>\n",
       "      <td>2.0</td>\n",
       "    </tr>\n",
       "    <tr>\n",
       "      <th>1</th>\n",
       "      <td>1.0</td>\n",
       "      <td>6523.0</td>\n",
       "      <td>844.0</td>\n",
       "      <td>584.0</td>\n",
       "      <td>90.0</td>\n",
       "      <td>297.0</td>\n",
       "      <td>700.0</td>\n",
       "      <td>1935.0</td>\n",
       "      <td>1415.0</td>\n",
       "      <td>431.0</td>\n",
       "      <td>...</td>\n",
       "      <td>NaN</td>\n",
       "      <td>NaN</td>\n",
       "      <td>NaN</td>\n",
       "      <td>NaN</td>\n",
       "      <td>NaN</td>\n",
       "      <td>NaN</td>\n",
       "      <td>3870.0</td>\n",
       "      <td>445.0</td>\n",
       "      <td>1.0</td>\n",
       "      <td>2.0</td>\n",
       "    </tr>\n",
       "    <tr>\n",
       "      <th>2</th>\n",
       "      <td>2.0</td>\n",
       "      <td>5878.0</td>\n",
       "      <td>4380.0</td>\n",
       "      <td>4119.0</td>\n",
       "      <td>90.0</td>\n",
       "      <td>280.0</td>\n",
       "      <td>456.0</td>\n",
       "      <td>905.0</td>\n",
       "      <td>547.0</td>\n",
       "      <td>700.0</td>\n",
       "      <td>...</td>\n",
       "      <td>NaN</td>\n",
       "      <td>NaN</td>\n",
       "      <td>NaN</td>\n",
       "      <td>NaN</td>\n",
       "      <td>NaN</td>\n",
       "      <td>NaN</td>\n",
       "      <td>550.0</td>\n",
       "      <td>1520.0</td>\n",
       "      <td>1.0</td>\n",
       "      <td>1.0</td>\n",
       "    </tr>\n",
       "    <tr>\n",
       "      <th>3</th>\n",
       "      <td>3.0</td>\n",
       "      <td>1275.0</td>\n",
       "      <td>759.0</td>\n",
       "      <td>169.0</td>\n",
       "      <td>240.0</td>\n",
       "      <td>777.0</td>\n",
       "      <td>173.0</td>\n",
       "      <td>340.0</td>\n",
       "      <td>577.0</td>\n",
       "      <td>349.0</td>\n",
       "      <td>...</td>\n",
       "      <td>NaN</td>\n",
       "      <td>NaN</td>\n",
       "      <td>NaN</td>\n",
       "      <td>NaN</td>\n",
       "      <td>NaN</td>\n",
       "      <td>NaN</td>\n",
       "      <td>3780.0</td>\n",
       "      <td>159.0</td>\n",
       "      <td>1.0</td>\n",
       "      <td>1.0</td>\n",
       "    </tr>\n",
       "    <tr>\n",
       "      <th>4</th>\n",
       "      <td>4.0</td>\n",
       "      <td>8117.0</td>\n",
       "      <td>1597.0</td>\n",
       "      <td>1485.0</td>\n",
       "      <td>150.0</td>\n",
       "      <td>241.0</td>\n",
       "      <td>411.0</td>\n",
       "      <td>585.0</td>\n",
       "      <td>612.0</td>\n",
       "      <td>128.0</td>\n",
       "      <td>...</td>\n",
       "      <td>NaN</td>\n",
       "      <td>NaN</td>\n",
       "      <td>NaN</td>\n",
       "      <td>NaN</td>\n",
       "      <td>NaN</td>\n",
       "      <td>NaN</td>\n",
       "      <td>4140.0</td>\n",
       "      <td>4797.0</td>\n",
       "      <td>2.0</td>\n",
       "      <td>1.0</td>\n",
       "    </tr>\n",
       "  </tbody>\n",
       "</table>\n",
       "<p>5 rows × 98 columns</p>\n",
       "</div>"
      ],
      "text/plain": [
       "    nr  i1_legid  i1_rcs_p  i1_rcs_e  i1_dep_1_p  i1_dep_1_e  i1_dep_1_place  \\\n",
       "0  0.0    5182.0     199.0     218.0       210.0       215.0           609.0   \n",
       "1  1.0    6523.0     844.0     584.0        90.0       297.0           700.0   \n",
       "2  2.0    5878.0    4380.0    4119.0        90.0       280.0           456.0   \n",
       "3  3.0    1275.0     759.0     169.0       240.0       777.0           173.0   \n",
       "4  4.0    8117.0    1597.0    1485.0       150.0       241.0           411.0   \n",
       "\n",
       "   i1_rcf_1_p  i1_rcf_1_e  i1_rcf_1_place  ...  o_dep_3_p  o_dep_3_e  \\\n",
       "0       935.0       736.0           256.0  ...        NaN        NaN   \n",
       "1      1935.0      1415.0           431.0  ...        NaN        NaN   \n",
       "2       905.0       547.0           700.0  ...        NaN        NaN   \n",
       "3       340.0       577.0           349.0  ...        NaN        NaN   \n",
       "4       585.0       612.0           128.0  ...        NaN        NaN   \n",
       "\n",
       "   o_dep_3_place  o_rcf_3_p  o_rcf_3_e  o_rcf_3_place  o_dlv_p  o_dlv_e  \\\n",
       "0            NaN        NaN        NaN            NaN    780.0    434.0   \n",
       "1            NaN        NaN        NaN            NaN   3870.0    445.0   \n",
       "2            NaN        NaN        NaN            NaN    550.0   1520.0   \n",
       "3            NaN        NaN        NaN            NaN   3780.0    159.0   \n",
       "4            NaN        NaN        NaN            NaN   4140.0   4797.0   \n",
       "\n",
       "   o_hops  legs  \n",
       "0     1.0   2.0  \n",
       "1     1.0   2.0  \n",
       "2     1.0   1.0  \n",
       "3     1.0   1.0  \n",
       "4     2.0   1.0  \n",
       "\n",
       "[5 rows x 98 columns]"
      ]
     },
     "execution_count": 18,
     "metadata": {},
     "output_type": "execute_result"
    }
   ],
   "source": [
    "df1 = df1.apply(pd.to_numeric)\n",
    "df1.head()"
   ]
  },
  {
   "cell_type": "code",
   "execution_count": 19,
   "id": "7d3a9836",
   "metadata": {},
   "outputs": [
    {
     "data": {
      "text/html": [
       "<div>\n",
       "<style scoped>\n",
       "    .dataframe tbody tr th:only-of-type {\n",
       "        vertical-align: middle;\n",
       "    }\n",
       "\n",
       "    .dataframe tbody tr th {\n",
       "        vertical-align: top;\n",
       "    }\n",
       "\n",
       "    .dataframe thead th {\n",
       "        text-align: right;\n",
       "    }\n",
       "</style>\n",
       "<table border=\"1\" class=\"dataframe\">\n",
       "  <thead>\n",
       "    <tr style=\"text-align: right;\">\n",
       "      <th></th>\n",
       "      <th>nr</th>\n",
       "      <th>i1_legid</th>\n",
       "      <th>i1_rcs_p</th>\n",
       "      <th>i1_rcs_e</th>\n",
       "      <th>i1_dep_1_p</th>\n",
       "      <th>i1_dep_1_e</th>\n",
       "      <th>i1_dep_1_place</th>\n",
       "      <th>i1_rcf_1_p</th>\n",
       "      <th>i1_rcf_1_e</th>\n",
       "      <th>i1_rcf_1_place</th>\n",
       "      <th>...</th>\n",
       "      <th>o_dep_3_p</th>\n",
       "      <th>o_dep_3_e</th>\n",
       "      <th>o_dep_3_place</th>\n",
       "      <th>o_rcf_3_p</th>\n",
       "      <th>o_rcf_3_e</th>\n",
       "      <th>o_rcf_3_place</th>\n",
       "      <th>o_dlv_p</th>\n",
       "      <th>o_dlv_e</th>\n",
       "      <th>o_hops</th>\n",
       "      <th>legs</th>\n",
       "    </tr>\n",
       "  </thead>\n",
       "  <tbody>\n",
       "    <tr>\n",
       "      <th>0</th>\n",
       "      <td>0.0</td>\n",
       "      <td>5182.0</td>\n",
       "      <td>199.0</td>\n",
       "      <td>218.0</td>\n",
       "      <td>210.0</td>\n",
       "      <td>215.0</td>\n",
       "      <td>609.0</td>\n",
       "      <td>935.0</td>\n",
       "      <td>736.0</td>\n",
       "      <td>256.0</td>\n",
       "      <td>...</td>\n",
       "      <td>785.0</td>\n",
       "      <td>846.307692</td>\n",
       "      <td>545.961538</td>\n",
       "      <td>1179.653846</td>\n",
       "      <td>911.576923</td>\n",
       "      <td>438.961538</td>\n",
       "      <td>780.0</td>\n",
       "      <td>434.0</td>\n",
       "      <td>1.0</td>\n",
       "      <td>2.0</td>\n",
       "    </tr>\n",
       "    <tr>\n",
       "      <th>1</th>\n",
       "      <td>1.0</td>\n",
       "      <td>6523.0</td>\n",
       "      <td>844.0</td>\n",
       "      <td>584.0</td>\n",
       "      <td>90.0</td>\n",
       "      <td>297.0</td>\n",
       "      <td>700.0</td>\n",
       "      <td>1935.0</td>\n",
       "      <td>1415.0</td>\n",
       "      <td>431.0</td>\n",
       "      <td>...</td>\n",
       "      <td>785.0</td>\n",
       "      <td>846.307692</td>\n",
       "      <td>545.961538</td>\n",
       "      <td>1179.653846</td>\n",
       "      <td>911.576923</td>\n",
       "      <td>438.961538</td>\n",
       "      <td>3870.0</td>\n",
       "      <td>445.0</td>\n",
       "      <td>1.0</td>\n",
       "      <td>2.0</td>\n",
       "    </tr>\n",
       "    <tr>\n",
       "      <th>2</th>\n",
       "      <td>2.0</td>\n",
       "      <td>5878.0</td>\n",
       "      <td>4380.0</td>\n",
       "      <td>4119.0</td>\n",
       "      <td>90.0</td>\n",
       "      <td>280.0</td>\n",
       "      <td>456.0</td>\n",
       "      <td>905.0</td>\n",
       "      <td>547.0</td>\n",
       "      <td>700.0</td>\n",
       "      <td>...</td>\n",
       "      <td>785.0</td>\n",
       "      <td>846.307692</td>\n",
       "      <td>545.961538</td>\n",
       "      <td>1179.653846</td>\n",
       "      <td>911.576923</td>\n",
       "      <td>438.961538</td>\n",
       "      <td>550.0</td>\n",
       "      <td>1520.0</td>\n",
       "      <td>1.0</td>\n",
       "      <td>1.0</td>\n",
       "    </tr>\n",
       "    <tr>\n",
       "      <th>3</th>\n",
       "      <td>3.0</td>\n",
       "      <td>1275.0</td>\n",
       "      <td>759.0</td>\n",
       "      <td>169.0</td>\n",
       "      <td>240.0</td>\n",
       "      <td>777.0</td>\n",
       "      <td>173.0</td>\n",
       "      <td>340.0</td>\n",
       "      <td>577.0</td>\n",
       "      <td>349.0</td>\n",
       "      <td>...</td>\n",
       "      <td>785.0</td>\n",
       "      <td>846.307692</td>\n",
       "      <td>545.961538</td>\n",
       "      <td>1179.653846</td>\n",
       "      <td>911.576923</td>\n",
       "      <td>438.961538</td>\n",
       "      <td>3780.0</td>\n",
       "      <td>159.0</td>\n",
       "      <td>1.0</td>\n",
       "      <td>1.0</td>\n",
       "    </tr>\n",
       "    <tr>\n",
       "      <th>4</th>\n",
       "      <td>4.0</td>\n",
       "      <td>8117.0</td>\n",
       "      <td>1597.0</td>\n",
       "      <td>1485.0</td>\n",
       "      <td>150.0</td>\n",
       "      <td>241.0</td>\n",
       "      <td>411.0</td>\n",
       "      <td>585.0</td>\n",
       "      <td>612.0</td>\n",
       "      <td>128.0</td>\n",
       "      <td>...</td>\n",
       "      <td>785.0</td>\n",
       "      <td>846.307692</td>\n",
       "      <td>545.961538</td>\n",
       "      <td>1179.653846</td>\n",
       "      <td>911.576923</td>\n",
       "      <td>438.961538</td>\n",
       "      <td>4140.0</td>\n",
       "      <td>4797.0</td>\n",
       "      <td>2.0</td>\n",
       "      <td>1.0</td>\n",
       "    </tr>\n",
       "  </tbody>\n",
       "</table>\n",
       "<p>5 rows × 98 columns</p>\n",
       "</div>"
      ],
      "text/plain": [
       "    nr  i1_legid  i1_rcs_p  i1_rcs_e  i1_dep_1_p  i1_dep_1_e  i1_dep_1_place  \\\n",
       "0  0.0    5182.0     199.0     218.0       210.0       215.0           609.0   \n",
       "1  1.0    6523.0     844.0     584.0        90.0       297.0           700.0   \n",
       "2  2.0    5878.0    4380.0    4119.0        90.0       280.0           456.0   \n",
       "3  3.0    1275.0     759.0     169.0       240.0       777.0           173.0   \n",
       "4  4.0    8117.0    1597.0    1485.0       150.0       241.0           411.0   \n",
       "\n",
       "   i1_rcf_1_p  i1_rcf_1_e  i1_rcf_1_place  ...  o_dep_3_p   o_dep_3_e  \\\n",
       "0       935.0       736.0           256.0  ...      785.0  846.307692   \n",
       "1      1935.0      1415.0           431.0  ...      785.0  846.307692   \n",
       "2       905.0       547.0           700.0  ...      785.0  846.307692   \n",
       "3       340.0       577.0           349.0  ...      785.0  846.307692   \n",
       "4       585.0       612.0           128.0  ...      785.0  846.307692   \n",
       "\n",
       "   o_dep_3_place    o_rcf_3_p   o_rcf_3_e  o_rcf_3_place  o_dlv_p  o_dlv_e  \\\n",
       "0     545.961538  1179.653846  911.576923     438.961538    780.0    434.0   \n",
       "1     545.961538  1179.653846  911.576923     438.961538   3870.0    445.0   \n",
       "2     545.961538  1179.653846  911.576923     438.961538    550.0   1520.0   \n",
       "3     545.961538  1179.653846  911.576923     438.961538   3780.0    159.0   \n",
       "4     545.961538  1179.653846  911.576923     438.961538   4140.0   4797.0   \n",
       "\n",
       "   o_hops  legs  \n",
       "0     1.0   2.0  \n",
       "1     1.0   2.0  \n",
       "2     1.0   1.0  \n",
       "3     1.0   1.0  \n",
       "4     2.0   1.0  \n",
       "\n",
       "[5 rows x 98 columns]"
      ]
     },
     "execution_count": 19,
     "metadata": {},
     "output_type": "execute_result"
    }
   ],
   "source": [
    "for col in df1.columns:\n",
    "    df1[col] = df1[col].replace(np.NaN, df1[col].mean())\n",
    "df1.head()"
   ]
  },
  {
   "cell_type": "code",
   "execution_count": 20,
   "id": "84d9e65c",
   "metadata": {},
   "outputs": [
    {
     "data": {
      "text/plain": [
       "nr               0\n",
       "i1_legid         0\n",
       "i1_rcs_p         0\n",
       "i1_rcs_e         0\n",
       "i1_dep_1_p       0\n",
       "                ..\n",
       "o_rcf_3_place    0\n",
       "o_dlv_p          0\n",
       "o_dlv_e          0\n",
       "o_hops           0\n",
       "legs             0\n",
       "Length: 98, dtype: int64"
      ]
     },
     "execution_count": 20,
     "metadata": {},
     "output_type": "execute_result"
    }
   ],
   "source": [
    "df1.isnull().sum()"
   ]
  },
  {
   "cell_type": "code",
   "execution_count": 21,
   "id": "15a16f0c",
   "metadata": {},
   "outputs": [
    {
     "name": "stdout",
     "output_type": "stream",
     "text": [
      "<class 'pandas.core.frame.DataFrame'>\n",
      "Int64Index: 3942 entries, 0 to 3941\n",
      "Data columns (total 98 columns):\n",
      " #   Column          Non-Null Count  Dtype  \n",
      "---  ------          --------------  -----  \n",
      " 0   nr              3942 non-null   float64\n",
      " 1   i1_legid        3942 non-null   float64\n",
      " 2   i1_rcs_p        3942 non-null   float64\n",
      " 3   i1_rcs_e        3942 non-null   float64\n",
      " 4   i1_dep_1_p      3942 non-null   float64\n",
      " 5   i1_dep_1_e      3942 non-null   float64\n",
      " 6   i1_dep_1_place  3942 non-null   float64\n",
      " 7   i1_rcf_1_p      3942 non-null   float64\n",
      " 8   i1_rcf_1_e      3942 non-null   float64\n",
      " 9   i1_rcf_1_place  3942 non-null   float64\n",
      " 10  i1_dep_2_p      3942 non-null   float64\n",
      " 11  i1_dep_2_e      3942 non-null   float64\n",
      " 12  i1_dep_2_place  3942 non-null   float64\n",
      " 13  i1_rcf_2_p      3942 non-null   float64\n",
      " 14  i1_rcf_2_e      3942 non-null   float64\n",
      " 15  i1_rcf_2_place  3942 non-null   float64\n",
      " 16  i1_dep_3_p      3942 non-null   float64\n",
      " 17  i1_dep_3_e      3942 non-null   float64\n",
      " 18  i1_dep_3_place  3942 non-null   float64\n",
      " 19  i1_rcf_3_p      3942 non-null   float64\n",
      " 20  i1_rcf_3_e      3942 non-null   float64\n",
      " 21  i1_rcf_3_place  3942 non-null   float64\n",
      " 22  i1_dlv_p        3942 non-null   float64\n",
      " 23  i1_dlv_e        3942 non-null   float64\n",
      " 24  i1_hops         3942 non-null   float64\n",
      " 25  i2_legid        3942 non-null   float64\n",
      " 26  i2_rcs_p        3942 non-null   float64\n",
      " 27  i2_rcs_e        3942 non-null   float64\n",
      " 28  i2_dep_1_p      3942 non-null   float64\n",
      " 29  i2_dep_1_e      3942 non-null   float64\n",
      " 30  i2_dep_1_place  3942 non-null   float64\n",
      " 31  i2_rcf_1_p      3942 non-null   float64\n",
      " 32  i2_rcf_1_e      3942 non-null   float64\n",
      " 33  i2_rcf_1_place  3942 non-null   float64\n",
      " 34  i2_dep_2_p      3942 non-null   float64\n",
      " 35  i2_dep_2_e      3942 non-null   float64\n",
      " 36  i2_dep_2_place  3942 non-null   float64\n",
      " 37  i2_rcf_2_p      3942 non-null   float64\n",
      " 38  i2_rcf_2_e      3942 non-null   float64\n",
      " 39  i2_rcf_2_place  3942 non-null   float64\n",
      " 40  i2_dep_3_p      3942 non-null   float64\n",
      " 41  i2_dep_3_e      3942 non-null   float64\n",
      " 42  i2_dep_3_place  3942 non-null   float64\n",
      " 43  i2_rcf_3_p      3942 non-null   float64\n",
      " 44  i2_rcf_3_e      3942 non-null   float64\n",
      " 45  i2_rcf_3_place  3942 non-null   float64\n",
      " 46  i2_dlv_p        3942 non-null   float64\n",
      " 47  i2_dlv_e        3942 non-null   float64\n",
      " 48  i2_hops         3942 non-null   float64\n",
      " 49  i3_legid        3942 non-null   float64\n",
      " 50  i3_rcs_p        3942 non-null   float64\n",
      " 51  i3_rcs_e        3942 non-null   float64\n",
      " 52  i3_dep_1_p      3942 non-null   float64\n",
      " 53  i3_dep_1_e      3942 non-null   float64\n",
      " 54  i3_dep_1_place  3942 non-null   float64\n",
      " 55  i3_rcf_1_p      3942 non-null   float64\n",
      " 56  i3_rcf_1_e      3942 non-null   float64\n",
      " 57  i3_rcf_1_place  3942 non-null   float64\n",
      " 58  i3_dep_2_p      3942 non-null   float64\n",
      " 59  i3_dep_2_e      3942 non-null   float64\n",
      " 60  i3_dep_2_place  3942 non-null   float64\n",
      " 61  i3_rcf_2_p      3942 non-null   float64\n",
      " 62  i3_rcf_2_e      3942 non-null   float64\n",
      " 63  i3_rcf_2_place  3942 non-null   float64\n",
      " 64  i3_dep_3_p      3942 non-null   float64\n",
      " 65  i3_dep_3_e      3942 non-null   float64\n",
      " 66  i3_dep_3_place  3942 non-null   float64\n",
      " 67  i3_rcf_3_p      3942 non-null   float64\n",
      " 68  i3_rcf_3_e      3942 non-null   float64\n",
      " 69  i3_rcf_3_place  3942 non-null   float64\n",
      " 70  i3_dlv_p        3942 non-null   float64\n",
      " 71  i3_dlv_e        3942 non-null   float64\n",
      " 72  i3_hops         3942 non-null   float64\n",
      " 73  o_legid         3942 non-null   float64\n",
      " 74  o_rcs_p         3942 non-null   float64\n",
      " 75  o_rcs_e         3942 non-null   float64\n",
      " 76  o_dep_1_p       3942 non-null   float64\n",
      " 77  o_dep_1_e       3942 non-null   float64\n",
      " 78  o_dep_1_place   3942 non-null   float64\n",
      " 79  o_rcf_1_p       3942 non-null   float64\n",
      " 80  o_rcf_1_e       3942 non-null   float64\n",
      " 81  o_rcf_1_place   3942 non-null   float64\n",
      " 82  o_dep_2_p       3942 non-null   float64\n",
      " 83  o_dep_2_e       3942 non-null   float64\n",
      " 84  o_dep_2_place   3942 non-null   float64\n",
      " 85  o_rcf_2_p       3942 non-null   float64\n",
      " 86  o_rcf_2_e       3942 non-null   float64\n",
      " 87  o_rcf_2_place   3942 non-null   float64\n",
      " 88  o_dep_3_p       3942 non-null   float64\n",
      " 89  o_dep_3_e       3942 non-null   float64\n",
      " 90  o_dep_3_place   3942 non-null   float64\n",
      " 91  o_rcf_3_p       3942 non-null   float64\n",
      " 92  o_rcf_3_e       3942 non-null   float64\n",
      " 93  o_rcf_3_place   3942 non-null   float64\n",
      " 94  o_dlv_p         3942 non-null   float64\n",
      " 95  o_dlv_e         3942 non-null   float64\n",
      " 96  o_hops          3942 non-null   float64\n",
      " 97  legs            3942 non-null   float64\n",
      "dtypes: float64(98)\n",
      "memory usage: 3.0 MB\n"
     ]
    }
   ],
   "source": [
    "df1.info()"
   ]
  },
  {
   "cell_type": "code",
   "execution_count": 22,
   "id": "9a05b728",
   "metadata": {},
   "outputs": [
    {
     "data": {
      "text/plain": [
       "array([2., 1., 3.])"
      ]
     },
     "execution_count": 22,
     "metadata": {},
     "output_type": "execute_result"
    }
   ],
   "source": [
    "df1['legs'].unique()"
   ]
  },
  {
   "cell_type": "code",
   "execution_count": 23,
   "id": "8258d5b7",
   "metadata": {},
   "outputs": [
    {
     "data": {
      "text/plain": [
       "array([1., 2., 3.])"
      ]
     },
     "execution_count": 23,
     "metadata": {},
     "output_type": "execute_result"
    }
   ],
   "source": [
    "df1['o_hops'].unique()"
   ]
  },
  {
   "cell_type": "code",
   "execution_count": 24,
   "id": "aaff6c59",
   "metadata": {},
   "outputs": [
    {
     "data": {
      "text/plain": [
       "<AxesSubplot:>"
      ]
     },
     "execution_count": 24,
     "metadata": {},
     "output_type": "execute_result"
    },
    {
     "data": {
      "image/png": "[encoded data removed]",
      "text/plain": [
       "<Figure size 5000x1000 with 1 Axes>"
      ]
     },
     "metadata": {},
     "output_type": "display_data"
    }
   ],
   "source": [
    "plt.figure(figsize=(50,10))\n",
    "sns.boxplot(data=df1)"
   ]
  },
  {
   "cell_type": "code",
   "execution_count": 25,
   "id": "1b4b0038",
   "metadata": {},
   "outputs": [
    {
     "name": "stderr",
     "output_type": "stream",
     "text": [
      "/var/folders/fb/vbxygbd56w7591dryps0mfgm0000gn/T/ipykernel_34902/1310272007.py:2: DeprecationWarning: `np.bool` is a deprecated alias for the builtin `bool`. To silence this warning, use `bool` by itself. Doing this will not modify any behavior and is safe. If you specifically wanted the numpy scalar type, use `np.bool_` here.\n",
      "Deprecated in NumPy 1.20; for more details and guidance: https://numpy.org/devdocs/release/1.20.0-notes.html#deprecations\n",
      "  mask = np.tril(np.ones_like(corr_mat, dtype = np.bool), k = -1)\n"
     ]
    },
    {
     "data": {
      "image/png": "[encoded data removed]",
      "text/plain": [
       "<Figure size 1000x800 with 2 Axes>"
      ]
     },
     "metadata": {},
     "output_type": "display_data"
    }
   ],
   "source": [
    "corr_mat = df1.corr()\n",
    "mask = np.tril(np.ones_like(corr_mat, dtype = np.bool), k = -1)\n",
    "plt.figure(figsize = (10,8))\n",
    "sns.heatmap(corr_mat.where(mask).iloc[1:,:-1], annot=False, cmap = 'coolwarm')\n",
    "plt.title('Correlation Heatmap of all features', fontsize = 16)\n",
    "plt.show()"
   ]
  },
  {
   "cell_type": "code",
   "execution_count": 26,
   "id": "18496544",
   "metadata": {},
   "outputs": [],
   "source": [
    "x = df1.drop(columns = ['legs'])\n",
    "y = df1['legs']"
   ]
  },
  {
   "cell_type": "code",
   "execution_count": 27,
   "id": "dea9d497",
   "metadata": {},
   "outputs": [
    {
     "data": {
      "text/plain": [
       "(3942, 97)"
      ]
     },
     "execution_count": 27,
     "metadata": {},
     "output_type": "execute_result"
    }
   ],
   "source": [
    "x.shape"
   ]
  },
  {
   "cell_type": "code",
   "execution_count": 28,
   "id": "b360821b",
   "metadata": {},
   "outputs": [
    {
     "data": {
      "text/plain": [
       "(3942,)"
      ]
     },
     "execution_count": 28,
     "metadata": {},
     "output_type": "execute_result"
    }
   ],
   "source": [
    "y.shape"
   ]
  },
  {
   "cell_type": "code",
   "execution_count": 29,
   "id": "5c4b3d5e",
   "metadata": {},
   "outputs": [],
   "source": [
    "x_train,x_test,y_train,y_test = train_test_split(x,y,test_size = 0.30, random_state = 101)"
   ]
  },
  {
   "cell_type": "markdown",
   "id": "2a91ebf6",
   "metadata": {},
   "source": [
    "# Random Forest"
   ]
  },
  {
   "cell_type": "code",
   "execution_count": 52,
   "id": "3caf7a60",
   "metadata": {},
   "outputs": [],
   "source": [
    "forest = RandomForestClassifier()"
   ]
  },
  {
   "cell_type": "code",
   "execution_count": 53,
   "id": "59f96ebf",
   "metadata": {},
   "outputs": [
    {
     "data": {
      "text/plain": [
       "RandomForestClassifier()"
      ]
     },
     "execution_count": 53,
     "metadata": {},
     "output_type": "execute_result"
    }
   ],
   "source": [
    "forest.fit(x_train,y_train)"
   ]
  },
  {
   "cell_type": "code",
   "execution_count": 54,
   "id": "ebbbd1f9",
   "metadata": {},
   "outputs": [
    {
     "data": {
      "text/plain": [
       "1.0"
      ]
     },
     "execution_count": 54,
     "metadata": {},
     "output_type": "execute_result"
    }
   ],
   "source": [
    "forest.score(x_train,y_train)"
   ]
  },
  {
   "cell_type": "markdown",
   "id": "e7f6d912",
   "metadata": {},
   "source": [
    "# Standard Scaling"
   ]
  },
  {
   "cell_type": "code",
   "execution_count": 30,
   "id": "0151cdec",
   "metadata": {},
   "outputs": [],
   "source": [
    "scaler = StandardScaler()"
   ]
  },
  {
   "cell_type": "code",
   "execution_count": 31,
   "id": "4bc25989",
   "metadata": {},
   "outputs": [],
   "source": [
    "x_train = scaler.fit_transform(x_train)\n",
    "x_test = scaler.transform(x_test)"
   ]
  },
  {
   "cell_type": "markdown",
   "id": "ed05ebc8",
   "metadata": {},
   "source": [
    "# Logistic Regression"
   ]
  },
  {
   "cell_type": "code",
   "execution_count": 40,
   "id": "c4fb5a3f",
   "metadata": {},
   "outputs": [],
   "source": [
    "lr = LogisticRegression()"
   ]
  },
  {
   "cell_type": "code",
   "execution_count": 41,
   "id": "4fb80486",
   "metadata": {},
   "outputs": [
    {
     "name": "stderr",
     "output_type": "stream",
     "text": [
      "/Users/nileshpatel/opt/anaconda3/lib/python3.9/site-packages/sklearn/linear_model/_logistic.py:814: ConvergenceWarning: lbfgs failed to converge (status=1):\n",
      "STOP: TOTAL NO. of ITERATIONS REACHED LIMIT.\n",
      "\n",
      "Increase the number of iterations (max_iter) or scale the data as shown in:\n",
      "    https://scikit-learn.org/stable/modules/preprocessing.html\n",
      "Please also refer to the documentation for alternative solver options:\n",
      "    https://scikit-learn.org/stable/modules/linear_model.html#logistic-regression\n",
      "  n_iter_i = _check_optimize_result(\n"
     ]
    },
    {
     "data": {
      "text/plain": [
       "LogisticRegression()"
      ]
     },
     "execution_count": 41,
     "metadata": {},
     "output_type": "execute_result"
    }
   ],
   "source": [
    "lr.fit(x_train,y_train)"
   ]
  },
  {
   "cell_type": "code",
   "execution_count": 42,
   "id": "c37488fb",
   "metadata": {},
   "outputs": [
    {
     "data": {
      "text/plain": [
       "0.4780717651322943"
      ]
     },
     "execution_count": 42,
     "metadata": {},
     "output_type": "execute_result"
    }
   ],
   "source": [
    "lr.score(x_train,y_train)"
   ]
  },
  {
   "cell_type": "code",
   "execution_count": 43,
   "id": "32b1ff44",
   "metadata": {},
   "outputs": [
    {
     "data": {
      "text/plain": [
       "0.3989856297548605"
      ]
     },
     "execution_count": 43,
     "metadata": {},
     "output_type": "execute_result"
    }
   ],
   "source": [
    "lr.score(x_test,y_test)"
   ]
  },
  {
   "cell_type": "code",
   "execution_count": 44,
   "id": "da03837a",
   "metadata": {},
   "outputs": [
    {
     "data": {
      "text/plain": [
       "array([2., 3., 1., ..., 2., 3., 2.])"
      ]
     },
     "execution_count": 44,
     "metadata": {},
     "output_type": "execute_result"
    }
   ],
   "source": [
    "lr_pred = lr.predict(x_test)\n",
    "lr_pred"
   ]
  },
  {
   "cell_type": "code",
   "execution_count": 45,
   "id": "a078f680",
   "metadata": {},
   "outputs": [
    {
     "data": {
      "text/plain": [
       "0.3989856297548605"
      ]
     },
     "execution_count": 45,
     "metadata": {},
     "output_type": "execute_result"
    }
   ],
   "source": [
    "accuracy_score(y_test,lr_pred)"
   ]
  },
  {
   "cell_type": "code",
   "execution_count": 77,
   "id": "829b01b5",
   "metadata": {},
   "outputs": [],
   "source": [
    "log_model = LogisticRegression(solver = 'saga', multi_class = 'ovr', max_iter = 10000)"
   ]
  },
  {
   "cell_type": "code",
   "execution_count": 78,
   "id": "35c3402c",
   "metadata": {},
   "outputs": [],
   "source": [
    "penalty = ['l1', 'l2', 'elasticnet']\n",
    "l1_ratio = np.linspace(0,1,20)\n",
    "C = np.logspace(0,10,20)\n",
    "param_grid = {'penalty': penalty, 'l1_ratio': l1_ratio, 'C': C}"
   ]
  },
  {
   "cell_type": "code",
   "execution_count": 79,
   "id": "d0d4d25b",
   "metadata": {},
   "outputs": [],
   "source": [
    "grid_model = GridSearchCV(log_model, param_grid = param_grid)"
   ]
  },
  {
   "cell_type": "code",
   "execution_count": null,
   "id": "eb0eb687",
   "metadata": {},
   "outputs": [],
   "source": [
    "grid_model.fit(x_train, y_train)"
   ]
  },
  {
   "cell_type": "code",
   "execution_count": null,
   "id": "810f7edc",
   "metadata": {},
   "outputs": [],
   "source": [
    "grid_model.best_params_"
   ]
  },
  {
   "cell_type": "markdown",
   "id": "921d9304",
   "metadata": {},
   "source": [
    "# KNN"
   ]
  },
  {
   "cell_type": "code",
   "execution_count": 46,
   "id": "8171a932",
   "metadata": {},
   "outputs": [],
   "source": [
    "knn = KNeighborsClassifier()"
   ]
  },
  {
   "cell_type": "code",
   "execution_count": 47,
   "id": "f054c828",
   "metadata": {},
   "outputs": [
    {
     "data": {
      "text/plain": [
       "KNeighborsClassifier()"
      ]
     },
     "execution_count": 47,
     "metadata": {},
     "output_type": "execute_result"
    }
   ],
   "source": [
    "knn.fit(x_train,y_train)"
   ]
  },
  {
   "cell_type": "code",
   "execution_count": null,
   "id": "4b894a0a",
   "metadata": {},
   "outputs": [],
   "source": [
    "k_range = list(range(1, 31))\n",
    "param_grid = dict(n_neighbors=k_range)\n",
    "grid = GridSearchCV(knn, param_grid, cv=10, scoring='accuracy', return_train_score=False,verbose=1)\n",
    "grid_search=grid.fit(x_train, y_train)"
   ]
  },
  {
   "cell_type": "code",
   "execution_count": null,
   "id": "d2cac339",
   "metadata": {},
   "outputs": [],
   "source": []
  },
  {
   "cell_type": "code",
   "execution_count": null,
   "id": "35429da1",
   "metadata": {},
   "outputs": [],
   "source": []
  },
  {
   "cell_type": "code",
   "execution_count": 48,
   "id": "7208f423",
   "metadata": {},
   "outputs": [
    {
     "name": "stderr",
     "output_type": "stream",
     "text": [
      "/Users/nileshpatel/opt/anaconda3/lib/python3.9/site-packages/sklearn/neighbors/_classification.py:228: FutureWarning: Unlike other reduction functions (e.g. `skew`, `kurtosis`), the default behavior of `mode` typically preserves the axis it acts along. In SciPy 1.11.0, this behavior will change: the default value of `keepdims` will become False, the `axis` over which the statistic is taken will be eliminated, and the value None will no longer be accepted. Set `keepdims` to True or False to avoid this warning.\n",
      "  mode, _ = stats.mode(_y[neigh_ind, k], axis=1)\n"
     ]
    },
    {
     "data": {
      "text/plain": [
       "array([1., 1., 1., ..., 1., 1., 3.])"
      ]
     },
     "execution_count": 48,
     "metadata": {},
     "output_type": "execute_result"
    }
   ],
   "source": [
    "knn_pred = knn.predict(x_test)\n",
    "knn_pred"
   ]
  },
  {
   "cell_type": "code",
   "execution_count": 51,
   "id": "179fdf7a",
   "metadata": {},
   "outputs": [
    {
     "data": {
      "text/plain": [
       "0.6846999154691462"
      ]
     },
     "execution_count": 51,
     "metadata": {},
     "output_type": "execute_result"
    }
   ],
   "source": [
    "accuracy_score(y_test,knn_pred)"
   ]
  },
  {
   "cell_type": "markdown",
   "id": "990143e5",
   "metadata": {},
   "source": [
    "# SVC"
   ]
  },
  {
   "cell_type": "code",
   "execution_count": 55,
   "id": "b38f8fd5",
   "metadata": {},
   "outputs": [],
   "source": [
    "svc = SVC()"
   ]
  },
  {
   "cell_type": "code",
   "execution_count": 56,
   "id": "14242bc0",
   "metadata": {},
   "outputs": [
    {
     "data": {
      "text/plain": [
       "SVC()"
      ]
     },
     "execution_count": 56,
     "metadata": {},
     "output_type": "execute_result"
    }
   ],
   "source": [
    "svc.fit(x_train,y_train)"
   ]
  },
  {
   "cell_type": "code",
   "execution_count": 57,
   "id": "db89bbaf",
   "metadata": {},
   "outputs": [
    {
     "data": {
      "text/plain": [
       "array([3., 1., 1., ..., 3., 2., 3.])"
      ]
     },
     "execution_count": 57,
     "metadata": {},
     "output_type": "execute_result"
    }
   ],
   "source": [
    "svc_pred = svc.predict(x_test)\n",
    "svc_pred"
   ]
  },
  {
   "cell_type": "code",
   "execution_count": 64,
   "id": "f4e53de4",
   "metadata": {},
   "outputs": [
    {
     "data": {
      "text/plain": [
       "0.9501267962806424"
      ]
     },
     "execution_count": 64,
     "metadata": {},
     "output_type": "execute_result"
    }
   ],
   "source": [
    "accuracy_score(y_test,svc_pred)"
   ]
  },
  {
   "cell_type": "code",
   "execution_count": 58,
   "id": "caba2e7d",
   "metadata": {},
   "outputs": [
    {
     "name": "stderr",
     "output_type": "stream",
     "text": [
      "/Users/nileshpatel/opt/anaconda3/lib/python3.9/site-packages/sklearn/utils/deprecation.py:87: FutureWarning: Function plot_confusion_matrix is deprecated; Function `plot_confusion_matrix` is deprecated in 1.0 and will be removed in 1.2. Use one of the class methods: ConfusionMatrixDisplay.from_predictions or ConfusionMatrixDisplay.from_estimator.\n",
      "  warnings.warn(msg, category=FutureWarning)\n"
     ]
    },
    {
     "data": {
      "text/plain": [
       "<sklearn.metrics._plot.confusion_matrix.ConfusionMatrixDisplay at 0x7fbe48eac160>"
      ]
     },
     "execution_count": 58,
     "metadata": {},
     "output_type": "execute_result"
    },
    {
     "data": {
      "image/png": "[encoded data removed]",
      "text/plain": [
       "<Figure size 640x480 with 2 Axes>"
      ]
     },
     "metadata": {},
     "output_type": "display_data"
    }
   ],
   "source": [
    "plot_confusion_matrix(svc,x_test,y_test)"
   ]
  },
  {
   "cell_type": "code",
   "execution_count": 60,
   "id": "fcffc048",
   "metadata": {},
   "outputs": [],
   "source": [
    "from sklearn.metrics import plot_roc_curve, roc_curve, auc"
   ]
  },
  {
   "cell_type": "code",
   "execution_count": 61,
   "id": "d27d8067",
   "metadata": {},
   "outputs": [],
   "source": [
    "def plot_multiclass_roc(clf, x_test, y_test, n_classes, figsize=(8,8)):\n",
    "    y_score = clf.decision_function(x_test)\n",
    "\n",
    "    # structures\n",
    "    fpr = dict()\n",
    "    tpr = dict()\n",
    "    roc_auc = dict()\n",
    "\n",
    "    # calculate dummies once\n",
    "    y_test_dummies = pd.get_dummies(y_test, drop_first=False).values\n",
    "    for i in range(n_classes):\n",
    "        fpr[i], tpr[i], _ = roc_curve(y_test_dummies[:, i], y_score[:, i])\n",
    "        roc_auc[i] = auc(fpr[i], tpr[i])\n",
    "\n",
    "    # roc for each class\n",
    "    fig, ax = plt.subplots(figsize=figsize)\n",
    "    ax.plot([0, 1], [0, 1], 'k--')\n",
    "    ax.set_xlim([0.0, 1.0])\n",
    "    ax.set_ylim([0.0, 1.05])\n",
    "    ax.set_xlabel('False Positive Rate')\n",
    "    ax.set_ylabel('True Positive Rate')\n",
    "    ax.set_title('Receiver operating characteristic example')\n",
    "    for i in range(n_classes):\n",
    "        ax.plot(fpr[i], tpr[i], label='ROC curve (area = %0.2f) for label %i' % (roc_auc[i], i))\n",
    "    ax.legend(loc=\"best\")\n",
    "    ax.grid(alpha=.4)\n",
    "    sns.despine()\n",
    "    plt.show()"
   ]
  },
  {
   "cell_type": "code",
   "execution_count": 63,
   "id": "d5825d5c",
   "metadata": {},
   "outputs": [
    {
     "data": {
      "image/png": "[encoded data removed]",
      "text/plain": [
       "<Figure size 800x800 with 1 Axes>"
      ]
     },
     "metadata": {},
     "output_type": "display_data"
    }
   ],
   "source": [
    "plot_multiclass_roc(svc, x_test, y_test, n_classes =3)"
   ]
  },
  {
   "cell_type": "markdown",
   "id": "4a5d4624",
   "metadata": {},
   "source": [
    "# Naive Bayes"
   ]
  },
  {
   "cell_type": "code",
   "execution_count": 65,
   "id": "f22cede7",
   "metadata": {},
   "outputs": [],
   "source": [
    "NB = GaussianNB()"
   ]
  },
  {
   "cell_type": "code",
   "execution_count": 66,
   "id": "594a6fb2",
   "metadata": {},
   "outputs": [
    {
     "data": {
      "text/plain": [
       "GaussianNB()"
      ]
     },
     "execution_count": 66,
     "metadata": {},
     "output_type": "execute_result"
    }
   ],
   "source": [
    "NB.fit(x_train,y_train)"
   ]
  },
  {
   "cell_type": "code",
   "execution_count": 67,
   "id": "232b6480",
   "metadata": {},
   "outputs": [
    {
     "data": {
      "text/plain": [
       "0.9989126495106923"
      ]
     },
     "execution_count": 67,
     "metadata": {},
     "output_type": "execute_result"
    }
   ],
   "source": [
    "NB.score(x_train,y_train)"
   ]
  },
  {
   "cell_type": "code",
   "execution_count": 68,
   "id": "09fc19e9",
   "metadata": {},
   "outputs": [
    {
     "data": {
      "text/plain": [
       "0.9949281487743026"
      ]
     },
     "execution_count": 68,
     "metadata": {},
     "output_type": "execute_result"
    }
   ],
   "source": [
    "NB.score(x_test,y_test)"
   ]
  },
  {
   "cell_type": "code",
   "execution_count": 70,
   "id": "4f5b78ea",
   "metadata": {},
   "outputs": [
    {
     "data": {
      "text/plain": [
       "array([3., 1., 1., ..., 3., 2., 3.])"
      ]
     },
     "execution_count": 70,
     "metadata": {},
     "output_type": "execute_result"
    }
   ],
   "source": [
    "NB_pred = NB.predict(x_test)\n",
    "NB_pred"
   ]
  },
  {
   "cell_type": "code",
   "execution_count": 71,
   "id": "73ce14b2",
   "metadata": {},
   "outputs": [
    {
     "data": {
      "text/plain": [
       "0.9949281487743026"
      ]
     },
     "execution_count": 71,
     "metadata": {},
     "output_type": "execute_result"
    }
   ],
   "source": [
    "accuracy_score(y_test,NB_pred)"
   ]
  },
  {
   "cell_type": "code",
   "execution_count": 74,
   "id": "e9d19b02",
   "metadata": {},
   "outputs": [
    {
     "name": "stderr",
     "output_type": "stream",
     "text": [
      "/Users/nileshpatel/opt/anaconda3/lib/python3.9/site-packages/sklearn/utils/deprecation.py:87: FutureWarning: Function plot_confusion_matrix is deprecated; Function `plot_confusion_matrix` is deprecated in 1.0 and will be removed in 1.2. Use one of the class methods: ConfusionMatrixDisplay.from_predictions or ConfusionMatrixDisplay.from_estimator.\n",
      "  warnings.warn(msg, category=FutureWarning)\n"
     ]
    },
    {
     "data": {
      "text/plain": [
       "<sklearn.metrics._plot.confusion_matrix.ConfusionMatrixDisplay at 0x7fbe48f05850>"
      ]
     },
     "execution_count": 74,
     "metadata": {},
     "output_type": "execute_result"
    },
    {
     "data": {
      "image/png": "[encoded data removed]",
      "text/plain": [
       "<Figure size 640x480 with 2 Axes>"
      ]
     },
     "metadata": {},
     "output_type": "display_data"
    }
   ],
   "source": [
    "plot_confusion_matrix(NB,x_test,y_test)"
   ]
  },
  {
   "cell_type": "code",
   "execution_count": null,
   "id": "abf3fe78",
   "metadata": {},
   "outputs": [],
   "source": []
  }
 ],
 "metadata": {
  "kernelspec": {
   "display_name": "Python 3 (ipykernel)",
   "language": "python",
   "name": "python3"
  },
  "language_info": {
   "codemirror_mode": {
    "name": "ipython",
    "version": 3
   },
   "file_extension": ".py",
   "mimetype": "text/x-python",
   "name": "python",
   "nbconvert_exporter": "python",
   "pygments_lexer": "ipython3",
   "version": "3.9.13"
  }
 },
 "nbformat": 4,
 "nbformat_minor": 5
}
